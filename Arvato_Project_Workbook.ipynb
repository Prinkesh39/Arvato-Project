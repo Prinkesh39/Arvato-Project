{
  "cells": [
    {
      "cell_type": "markdown",
      "metadata": {
        "id": "c0vShVdowmxF"
      },
      "source": [
        "# Capstone Project: Create a Customer Segmentation Report for Arvato Financial Services\n",
        "\n",
        "In this project, you will analyze demographics data for customers of a mail-order sales company in Germany, comparing it against demographics information for the general population. You'll use unsupervised learning techniques to perform customer segmentation, identifying the parts of the population that best describe the core customer base of the company. Then, you'll apply what you've learned on a third dataset with demographics information for targets of a marketing campaign for the company, and use a model to predict which individuals are most likely to convert into becoming customers for the company. The data that you will use has been provided by our partners at Bertelsmann Arvato Analytics, and represents a real-life data science task.\n",
        "\n",
        "If you completed the first term of this program, you will be familiar with the first part of this project, from the unsupervised learning project. The versions of those two datasets used in this project will include many more features and has not been pre-cleaned. You are also free to choose whatever approach you'd like to analyzing the data rather than follow pre-determined steps. In your work on this project, make sure that you carefully document your steps and decisions, since your main deliverable for this project will be a blog post reporting your findings."
      ]
    },
    {
      "cell_type": "code",
      "execution_count": null,
      "metadata": {
        "id": "YMt5x5pIwmxS"
      },
      "outputs": [],
      "source": [
        "# import libraries here; add more as necessary\n",
        "import numpy as np\n",
        "import pandas as pd\n",
        "import matplotlib.pyplot as plt\n",
        "import seaborn as sns\n",
        "\n",
        "# magic word for producing visualizations in notebook\n",
        "%matplotlib inline\n",
        "\n",
        "import time\n",
        "from sklearn.decomposition import PCA\n",
        "from sklearn.cluster import KMeans\n",
        "from sklearn.linear_model import LogisticRegression\n",
        "from sklearn.tree import DecisionTreeClassifier\n",
        "from sklearn.ensemble import RandomForestClassifier\n",
        "from sklearn.ensemble import GradientBoostingRegressor, AdaBoostRegressor\n",
        "from sklearn.ensemble import AdaBoostClassifier, GradientBoostingClassifier\n",
        "\n",
        "from sklearn.model_selection import GridSearchCV\n",
        "\n",
        "\n",
        "from sklearn.metrics import accuracy_score, roc_auc_score, confusion_matrix\n",
        "from sklearn.model_selection import train_test_split, cross_val_score\n"
      ]
    },
    {
      "cell_type": "markdown",
      "metadata": {
        "id": "cGKo1D_wwmxZ"
      },
      "source": [
        "## Part 0: Get to Know the Data\n",
        "\n",
        "There are four data files associated with this project:\n",
        "\n",
        "- `Udacity_AZDIAS_052018.csv`: Demographics data for the general population of Germany; 891 211 persons (rows) x 366 features (columns).\n",
        "- `Udacity_CUSTOMERS_052018.csv`: Demographics data for customers of a mail-order company; 191 652 persons (rows) x 369 features (columns).\n",
        "- `Udacity_MAILOUT_052018_TRAIN.csv`: Demographics data for individuals who were targets of a marketing campaign; 42 982 persons (rows) x 367 (columns).\n",
        "- `Udacity_MAILOUT_052018_TEST.csv`: Demographics data for individuals who were targets of a marketing campaign; 42 833 persons (rows) x 366 (columns).\n",
        "\n",
        "Each row of the demographics files represents a single person, but also includes information outside of individuals, including information about their household, building, and neighborhood. Use the information from the first two files to figure out how customers (\"CUSTOMERS\") are similar to or differ from the general population at large (\"AZDIAS\"), then use your analysis to make predictions on the other two files (\"MAILOUT\"), predicting which recipients are most likely to become a customer for the mail-order company.\n",
        "\n",
        "The \"CUSTOMERS\" file contains three extra columns ('CUSTOMER_GROUP', 'ONLINE_PURCHASE', and 'PRODUCT_GROUP'), which provide broad information about the customers depicted in the file. The original \"MAILOUT\" file included one additional column, \"RESPONSE\", which indicated whether or not each recipient became a customer of the company. For the \"TRAIN\" subset, this column has been retained, but in the \"TEST\" subset it has been removed; it is against that withheld column that your final predictions will be assessed in the Kaggle competition.\n",
        "\n",
        "Otherwise, all of the remaining columns are the same between the three data files. For more information about the columns depicted in the files, you can refer to two Excel spreadsheets provided in the workspace. [One of them](./DIAS Information Levels - Attributes 2017.xlsx) is a top-level list of attributes and descriptions, organized by informational category. [The other](./DIAS Attributes - Values 2017.xlsx) is a detailed mapping of data values for each feature in alphabetical order.\n",
        "\n",
        "In the below cell, we've provided some initial code to load in the first two datasets. Note for all of the `.csv` data files in this project that they're semicolon (`;`) delimited, so an additional argument in the [`read_csv()`](https://pandas.pydata.org/pandas-docs/stable/generated/pandas.read_csv.html) call has been included to read in the data properly. Also, considering the size of the datasets, it may take some time for them to load completely.\n",
        "\n",
        "You'll notice when the data is loaded in that a warning message will immediately pop up. Before you really start digging into the modeling and analysis, you're going to need to perform some cleaning. Take some time to browse the structure of the data and look over the informational spreadsheets to understand the data values. Make some decisions on which features to keep, which features to drop, and if any revisions need to be made on data formats. It'll be a good idea to create a function with pre-processing steps, since you'll need to clean all of the datasets before you work with them."
      ]
    },
    {
      "cell_type": "code",
      "execution_count": null,
      "metadata": {
        "id": "yPOMtXeOwmxa",
        "outputId": "c1627936-0778-4a6e-8392-4f9230ce7d9b"
      },
      "outputs": [
        {
          "name": "stderr",
          "output_type": "stream",
          "text": [
            "/opt/conda/lib/python3.6/site-packages/IPython/core/interactiveshell.py:2785: DtypeWarning: Columns (18,19) have mixed types. Specify dtype option on import or set low_memory=False.\n",
            "  interactivity=interactivity, compiler=compiler, result=result)\n"
          ]
        }
      ],
      "source": [
        "# load in the data\n",
        "azdias = pd.read_csv('../../data/Term2/capstone/arvato_data/Udacity_AZDIAS_052018.csv', sep=';')\n",
        "customers = pd.read_csv('../../data/Term2/capstone/arvato_data/Udacity_CUSTOMERS_052018.csv', sep=';')"
      ]
    },
    {
      "cell_type": "markdown",
      "metadata": {
        "id": "Ywrs-Lh6wmxl"
      },
      "source": [
        "**We observe that there are some issues with column 18, 19 for which warning has been displayed. We will take care of it afterwards. First, let's look into all the data provided.**"
      ]
    },
    {
      "cell_type": "code",
      "execution_count": null,
      "metadata": {
        "id": "yGAcEbFKwmxm",
        "outputId": "b546d812-379f-4cb0-8a97-7d5192d8632f"
      },
      "outputs": [
        {
          "name": "stdout",
          "output_type": "stream",
          "text": [
            "(891221, 366)\n",
            "(191652, 369)\n"
          ]
        }
      ],
      "source": [
        "# Be sure to add in a lot more cells (both markdown and code) to document your\n",
        "# approach and findings!\n",
        "print (azdias.shape)\n",
        "print (customers.shape)"
      ]
    },
    {
      "cell_type": "markdown",
      "metadata": {
        "id": "waMw2d_7wmxo"
      },
      "source": [
        "**There are three extra columns in the customer dataset.**"
      ]
    },
    {
      "cell_type": "code",
      "execution_count": null,
      "metadata": {
        "id": "4esna2Gewmxp",
        "outputId": "896cd375-6b41-418f-ece8-693bc1403127"
      },
      "outputs": [
        {
          "name": "stdout",
          "output_type": "stream",
          "text": [
            "['PRODUCT_GROUP', 'CUSTOMER_GROUP', 'ONLINE_PURCHASE']\n"
          ]
        }
      ],
      "source": [
        "Extra_columns = []\n",
        "for col in customers.columns:\n",
        "    if col in azdias.columns:\n",
        "        pass\n",
        "    else:\n",
        "        Extra_columns.append(col)\n",
        "print (Extra_columns)"
      ]
    },
    {
      "cell_type": "code",
      "execution_count": null,
      "metadata": {
        "id": "jz28h2YCwmxq",
        "outputId": "f6843ca3-449d-435e-a783-158642f881cf"
      },
      "outputs": [
        {
          "data": {
            "text/html": [
              "<div>\n",
              "<style scoped>\n",
              "    .dataframe tbody tr th:only-of-type {\n",
              "        vertical-align: middle;\n",
              "    }\n",
              "\n",
              "    .dataframe tbody tr th {\n",
              "        vertical-align: top;\n",
              "    }\n",
              "\n",
              "    .dataframe thead th {\n",
              "        text-align: right;\n",
              "    }\n",
              "</style>\n",
              "<table border=\"1\" class=\"dataframe\">\n",
              "  <thead>\n",
              "    <tr style=\"text-align: right;\">\n",
              "      <th></th>\n",
              "      <th>PRODUCT_GROUP</th>\n",
              "      <th>CUSTOMER_GROUP</th>\n",
              "      <th>ONLINE_PURCHASE</th>\n",
              "    </tr>\n",
              "  </thead>\n",
              "  <tbody>\n",
              "    <tr>\n",
              "      <th>0</th>\n",
              "      <td>COSMETIC_AND_FOOD</td>\n",
              "      <td>MULTI_BUYER</td>\n",
              "      <td>0</td>\n",
              "    </tr>\n",
              "    <tr>\n",
              "      <th>1</th>\n",
              "      <td>FOOD</td>\n",
              "      <td>SINGLE_BUYER</td>\n",
              "      <td>0</td>\n",
              "    </tr>\n",
              "    <tr>\n",
              "      <th>2</th>\n",
              "      <td>COSMETIC_AND_FOOD</td>\n",
              "      <td>MULTI_BUYER</td>\n",
              "      <td>0</td>\n",
              "    </tr>\n",
              "    <tr>\n",
              "      <th>3</th>\n",
              "      <td>COSMETIC</td>\n",
              "      <td>MULTI_BUYER</td>\n",
              "      <td>0</td>\n",
              "    </tr>\n",
              "    <tr>\n",
              "      <th>4</th>\n",
              "      <td>FOOD</td>\n",
              "      <td>MULTI_BUYER</td>\n",
              "      <td>0</td>\n",
              "    </tr>\n",
              "  </tbody>\n",
              "</table>\n",
              "</div>"
            ],
            "text/plain": [
              "       PRODUCT_GROUP CUSTOMER_GROUP  ONLINE_PURCHASE\n",
              "0  COSMETIC_AND_FOOD    MULTI_BUYER                0\n",
              "1               FOOD   SINGLE_BUYER                0\n",
              "2  COSMETIC_AND_FOOD    MULTI_BUYER                0\n",
              "3           COSMETIC    MULTI_BUYER                0\n",
              "4               FOOD    MULTI_BUYER                0"
            ]
          },
          "execution_count": 8,
          "metadata": {},
          "output_type": "execute_result"
        }
      ],
      "source": [
        "customer_extra_cols = customers[Extra_columns].copy()\n",
        "customer_extra_cols.head()"
      ]
    },
    {
      "cell_type": "markdown",
      "metadata": {
        "id": "KJA-iRygwmxs"
      },
      "source": [
        "**Also, there are two Excel sheets provided with information and values of the attributes column in both azdias file as welll as customers file. This will help understand the data.**"
      ]
    },
    {
      "cell_type": "code",
      "execution_count": null,
      "metadata": {
        "id": "CrxIhdc1wmxt",
        "outputId": "34da9477-e0e3-4db4-bba7-8d43933a1483"
      },
      "outputs": [
        {
          "data": {
            "text/html": [
              "<div>\n",
              "<style scoped>\n",
              "    .dataframe tbody tr th:only-of-type {\n",
              "        vertical-align: middle;\n",
              "    }\n",
              "\n",
              "    .dataframe tbody tr th {\n",
              "        vertical-align: top;\n",
              "    }\n",
              "\n",
              "    .dataframe thead th {\n",
              "        text-align: right;\n",
              "    }\n",
              "</style>\n",
              "<table border=\"1\" class=\"dataframe\">\n",
              "  <thead>\n",
              "    <tr style=\"text-align: right;\">\n",
              "      <th></th>\n",
              "      <th>Attribute</th>\n",
              "      <th>Description</th>\n",
              "      <th>Value</th>\n",
              "      <th>Meaning</th>\n",
              "    </tr>\n",
              "  </thead>\n",
              "  <tbody>\n",
              "    <tr>\n",
              "      <th>NaN</th>\n",
              "      <td>AGER_TYP</td>\n",
              "      <td>best-ager typology</td>\n",
              "      <td>-1</td>\n",
              "      <td>unknown</td>\n",
              "    </tr>\n",
              "    <tr>\n",
              "      <th>NaN</th>\n",
              "      <td>NaN</td>\n",
              "      <td>NaN</td>\n",
              "      <td>0</td>\n",
              "      <td>no classification possible</td>\n",
              "    </tr>\n",
              "    <tr>\n",
              "      <th>NaN</th>\n",
              "      <td>NaN</td>\n",
              "      <td>NaN</td>\n",
              "      <td>1</td>\n",
              "      <td>passive elderly</td>\n",
              "    </tr>\n",
              "    <tr>\n",
              "      <th>NaN</th>\n",
              "      <td>NaN</td>\n",
              "      <td>NaN</td>\n",
              "      <td>2</td>\n",
              "      <td>cultural elderly</td>\n",
              "    </tr>\n",
              "    <tr>\n",
              "      <th>NaN</th>\n",
              "      <td>NaN</td>\n",
              "      <td>NaN</td>\n",
              "      <td>3</td>\n",
              "      <td>experience-driven elderly</td>\n",
              "    </tr>\n",
              "  </tbody>\n",
              "</table>\n",
              "</div>"
            ],
            "text/plain": [
              "    Attribute         Description Value                     Meaning\n",
              "NaN  AGER_TYP  best-ager typology    -1                     unknown\n",
              "NaN       NaN                 NaN     0  no classification possible\n",
              "NaN       NaN                 NaN     1             passive elderly\n",
              "NaN       NaN                 NaN     2            cultural elderly\n",
              "NaN       NaN                 NaN     3   experience-driven elderly"
            ]
          },
          "execution_count": 10,
          "metadata": {},
          "output_type": "execute_result"
        }
      ],
      "source": [
        "attri_info = pd.read_excel('DIAS Attributes - Values 2017.xlsx', header=1)\n",
        "attri_info.head()"
      ]
    },
    {
      "cell_type": "code",
      "execution_count": null,
      "metadata": {
        "id": "YRd7dCNawmxx",
        "outputId": "269a3bfd-2838-4013-ca61-21b9681d30aa"
      },
      "outputs": [
        {
          "data": {
            "text/html": [
              "<div>\n",
              "<style scoped>\n",
              "    .dataframe tbody tr th:only-of-type {\n",
              "        vertical-align: middle;\n",
              "    }\n",
              "\n",
              "    .dataframe tbody tr th {\n",
              "        vertical-align: top;\n",
              "    }\n",
              "\n",
              "    .dataframe thead th {\n",
              "        text-align: right;\n",
              "    }\n",
              "</style>\n",
              "<table border=\"1\" class=\"dataframe\">\n",
              "  <thead>\n",
              "    <tr style=\"text-align: right;\">\n",
              "      <th></th>\n",
              "      <th>Attribute</th>\n",
              "      <th>Description</th>\n",
              "      <th>Value</th>\n",
              "      <th>Meaning</th>\n",
              "    </tr>\n",
              "  </thead>\n",
              "  <tbody>\n",
              "    <tr>\n",
              "      <th>NaN</th>\n",
              "      <td>AGER_TYP</td>\n",
              "      <td>best-ager typology</td>\n",
              "      <td>-1</td>\n",
              "      <td>unknown</td>\n",
              "    </tr>\n",
              "    <tr>\n",
              "      <th>NaN</th>\n",
              "      <td>NaN</td>\n",
              "      <td>NaN</td>\n",
              "      <td>0</td>\n",
              "      <td>no classification possible</td>\n",
              "    </tr>\n",
              "    <tr>\n",
              "      <th>NaN</th>\n",
              "      <td>NaN</td>\n",
              "      <td>NaN</td>\n",
              "      <td>1</td>\n",
              "      <td>passive elderly</td>\n",
              "    </tr>\n",
              "    <tr>\n",
              "      <th>NaN</th>\n",
              "      <td>NaN</td>\n",
              "      <td>NaN</td>\n",
              "      <td>2</td>\n",
              "      <td>cultural elderly</td>\n",
              "    </tr>\n",
              "    <tr>\n",
              "      <th>NaN</th>\n",
              "      <td>NaN</td>\n",
              "      <td>NaN</td>\n",
              "      <td>3</td>\n",
              "      <td>experience-driven elderly</td>\n",
              "    </tr>\n",
              "  </tbody>\n",
              "</table>\n",
              "</div>"
            ],
            "text/plain": [
              "    Attribute         Description Value                     Meaning\n",
              "NaN  AGER_TYP  best-ager typology    -1                     unknown\n",
              "NaN       NaN                 NaN     0  no classification possible\n",
              "NaN       NaN                 NaN     1             passive elderly\n",
              "NaN       NaN                 NaN     2            cultural elderly\n",
              "NaN       NaN                 NaN     3   experience-driven elderly"
            ]
          },
          "execution_count": 11,
          "metadata": {},
          "output_type": "execute_result"
        }
      ],
      "source": [
        "attri_values = pd.read_excel('DIAS Attributes - Values 2017.xlsx', header=1)\n",
        "attri_values.head()"
      ]
    },
    {
      "cell_type": "markdown",
      "metadata": {
        "id": "LpV5iWV9wmxy"
      },
      "source": [
        "**We can use Forward Fill method to fill Nan values in Attribute column**"
      ]
    },
    {
      "cell_type": "code",
      "execution_count": null,
      "metadata": {
        "id": "txTIyub-wmx0",
        "outputId": "4e7dd145-a63b-417f-da1b-e200359d94d5"
      },
      "outputs": [
        {
          "data": {
            "text/html": [
              "<div>\n",
              "<style scoped>\n",
              "    .dataframe tbody tr th:only-of-type {\n",
              "        vertical-align: middle;\n",
              "    }\n",
              "\n",
              "    .dataframe tbody tr th {\n",
              "        vertical-align: top;\n",
              "    }\n",
              "\n",
              "    .dataframe thead th {\n",
              "        text-align: right;\n",
              "    }\n",
              "</style>\n",
              "<table border=\"1\" class=\"dataframe\">\n",
              "  <thead>\n",
              "    <tr style=\"text-align: right;\">\n",
              "      <th></th>\n",
              "      <th>Attribute</th>\n",
              "      <th>Description</th>\n",
              "      <th>Value</th>\n",
              "      <th>Meaning</th>\n",
              "    </tr>\n",
              "  </thead>\n",
              "  <tbody>\n",
              "    <tr>\n",
              "      <th>NaN</th>\n",
              "      <td>AGER_TYP</td>\n",
              "      <td>best-ager typology</td>\n",
              "      <td>-1</td>\n",
              "      <td>unknown</td>\n",
              "    </tr>\n",
              "    <tr>\n",
              "      <th>NaN</th>\n",
              "      <td>AGER_TYP</td>\n",
              "      <td>NaN</td>\n",
              "      <td>0</td>\n",
              "      <td>no classification possible</td>\n",
              "    </tr>\n",
              "    <tr>\n",
              "      <th>NaN</th>\n",
              "      <td>AGER_TYP</td>\n",
              "      <td>NaN</td>\n",
              "      <td>1</td>\n",
              "      <td>passive elderly</td>\n",
              "    </tr>\n",
              "    <tr>\n",
              "      <th>NaN</th>\n",
              "      <td>AGER_TYP</td>\n",
              "      <td>NaN</td>\n",
              "      <td>2</td>\n",
              "      <td>cultural elderly</td>\n",
              "    </tr>\n",
              "    <tr>\n",
              "      <th>NaN</th>\n",
              "      <td>AGER_TYP</td>\n",
              "      <td>NaN</td>\n",
              "      <td>3</td>\n",
              "      <td>experience-driven elderly</td>\n",
              "    </tr>\n",
              "  </tbody>\n",
              "</table>\n",
              "</div>"
            ],
            "text/plain": [
              "    Attribute         Description Value                     Meaning\n",
              "NaN  AGER_TYP  best-ager typology    -1                     unknown\n",
              "NaN  AGER_TYP                 NaN     0  no classification possible\n",
              "NaN  AGER_TYP                 NaN     1             passive elderly\n",
              "NaN  AGER_TYP                 NaN     2            cultural elderly\n",
              "NaN  AGER_TYP                 NaN     3   experience-driven elderly"
            ]
          },
          "execution_count": 12,
          "metadata": {},
          "output_type": "execute_result"
        }
      ],
      "source": [
        "attri_values['Attribute'] = attri_values['Attribute'].ffill()\n",
        "attri_values.head()"
      ]
    },
    {
      "cell_type": "markdown",
      "metadata": {
        "id": "daBt-0piwmx1"
      },
      "source": [
        "# **Let's take care of the Warnings Columns first**"
      ]
    },
    {
      "cell_type": "code",
      "execution_count": null,
      "metadata": {
        "id": "PBQVf9wjwmx1",
        "outputId": "ce18d011-5cdd-4b96-b12f-294b18958514"
      },
      "outputs": [
        {
          "data": {
            "text/html": [
              "<div>\n",
              "<style scoped>\n",
              "    .dataframe tbody tr th:only-of-type {\n",
              "        vertical-align: middle;\n",
              "    }\n",
              "\n",
              "    .dataframe tbody tr th {\n",
              "        vertical-align: top;\n",
              "    }\n",
              "\n",
              "    .dataframe thead th {\n",
              "        text-align: right;\n",
              "    }\n",
              "</style>\n",
              "<table border=\"1\" class=\"dataframe\">\n",
              "  <thead>\n",
              "    <tr style=\"text-align: right;\">\n",
              "      <th></th>\n",
              "      <th>CAMEO_DEUG_2015</th>\n",
              "      <th>CAMEO_INTL_2015</th>\n",
              "    </tr>\n",
              "  </thead>\n",
              "  <tbody>\n",
              "    <tr>\n",
              "      <th>0</th>\n",
              "      <td>1</td>\n",
              "      <td>13</td>\n",
              "    </tr>\n",
              "    <tr>\n",
              "      <th>1</th>\n",
              "      <td>NaN</td>\n",
              "      <td>NaN</td>\n",
              "    </tr>\n",
              "    <tr>\n",
              "      <th>2</th>\n",
              "      <td>5</td>\n",
              "      <td>34</td>\n",
              "    </tr>\n",
              "    <tr>\n",
              "      <th>3</th>\n",
              "      <td>4</td>\n",
              "      <td>24</td>\n",
              "    </tr>\n",
              "    <tr>\n",
              "      <th>4</th>\n",
              "      <td>7</td>\n",
              "      <td>41</td>\n",
              "    </tr>\n",
              "  </tbody>\n",
              "</table>\n",
              "</div>"
            ],
            "text/plain": [
              "  CAMEO_DEUG_2015 CAMEO_INTL_2015\n",
              "0               1              13\n",
              "1             NaN             NaN\n",
              "2               5              34\n",
              "3               4              24\n",
              "4               7              41"
            ]
          },
          "execution_count": 14,
          "metadata": {},
          "output_type": "execute_result"
        }
      ],
      "source": [
        "Warning_Cols = customers.columns[18:20]\n",
        "customers[Warning_Cols].head()"
      ]
    },
    {
      "cell_type": "markdown",
      "metadata": {
        "id": "SzK06QwVwmx2"
      },
      "source": [
        "**Looking at the excel data for the attributes values, we can establish that the values are categorical with integer values provided for each category**"
      ]
    },
    {
      "cell_type": "code",
      "execution_count": null,
      "metadata": {
        "id": "2zELZbI-wmx4",
        "outputId": "b0fe2a1e-0e63-4b90-daa6-50f1ce31386e"
      },
      "outputs": [
        {
          "name": "stdout",
          "output_type": "stream",
          "text": [
            "[nan 8.0 4.0 2.0 6.0 1.0 9.0 5.0 7.0 3.0 '4' '3' '7' '2' '8' '9' '6' '5'\n",
            " '1' 'X']\n",
            "\n",
            "\n",
            "[nan 51.0 24.0 12.0 43.0 54.0 22.0 14.0 13.0 15.0 33.0 41.0 34.0 55.0 25.0\n",
            " 23.0 31.0 52.0 35.0 45.0 44.0 32.0 '22' '24' '41' '12' '54' '51' '44' '35'\n",
            " '23' '25' '14' '34' '52' '55' '31' '32' '15' '13' '43' '33' '45' 'XX']\n"
          ]
        }
      ],
      "source": [
        "print(azdias[Warning_Cols[0]].unique())\n",
        "print('\\n')\n",
        "print(azdias[Warning_Cols[1]].unique())"
      ]
    },
    {
      "cell_type": "markdown",
      "metadata": {
        "id": "2dMZohDcwmx5"
      },
      "source": [
        "**Both the dataset has mixed data type in the columns 18 and 19. We can see that we have 5 kinds of values viz. 'X', 'XX', 'nan', 'floats', 'strings'. Since as per the Attributes Data, -1 is the value assigned to unknown values, we can replace 'X', 'XX' values with nan and convert the types of rest of the values to floats. This will hopefully solve our warning issues.**"
      ]
    },
    {
      "cell_type": "code",
      "execution_count": null,
      "metadata": {
        "id": "o3loDcsowmx6"
      },
      "outputs": [],
      "source": [
        "def clear_warn(data):\n",
        "    '''This function will help clean the coilumns as per the Warnings while loading the dataset.\n",
        "    \n",
        "    Input: \n",
        "\n",
        "    data: dataset(azdias / customers)\n",
        "    \n",
        "    Output:\n",
        "    Cleans data\n",
        "    '''\n",
        "    Warning_Cols = data.columns[18:20]\n",
        "    cols = Warning_Cols\n",
        "    data[cols] = data[cols].replace({'X': np.nan, 'XX': np.nan})\n",
        "    data[cols] = data[cols].astype(float)\n",
        "    \n",
        "    return data  "
      ]
    },
    {
      "cell_type": "code",
      "execution_count": null,
      "metadata": {
        "id": "LawSpNZZwmx6"
      },
      "outputs": [],
      "source": [
        "azdias = clear_warn(azdias)\n",
        "customers = clear_warn(customers)"
      ]
    },
    {
      "cell_type": "markdown",
      "metadata": {
        "id": "S5zW9K92wmx7"
      },
      "source": [
        "# **Let's Start Data Cleaning**"
      ]
    },
    {
      "cell_type": "markdown",
      "metadata": {
        "id": "FwdfHMLOwmx7"
      },
      "source": [
        "**The columns LP_FAMILIE_FEIN, LP_FAMILIE_GROB, LP_LEBENSPHASE_GROB contains 0 as a value which does not correspond to any category as the per the values information given in Attributes Values File. For this reason, any value which is 0 in these columns needs to be converted to nan.**"
      ]
    },
    {
      "cell_type": "code",
      "execution_count": null,
      "metadata": {
        "id": "tz11lkY4wmx7",
        "outputId": "a6fc50e7-7616-4cb8-c303-17054717c298"
      },
      "outputs": [
        {
          "name": "stdout",
          "output_type": "stream",
          "text": [
            "[  2.   5.   1.   0.  10.   7.  11.   3.   8.   4.   6.  nan   9.]\n",
            "[  2.   3.   1.   0.   5.   4.  nan]\n",
            "[  1.   2.   4.   5.   3.  nan]\n",
            "[  4.   6.   1.   0.  10.   2.   3.   5.   7.  12.  11.   9.   8.  nan]\n",
            "[ 15.  21.   3.   0.  32.   8.   2.   5.  10.   4.   6.  23.  12.  20.   1.\n",
            "  11.  25.  13.   7.  18.  31.  19.  38.  35.  30.  22.  14.  33.  29.  24.\n",
            "  28.  37.  26.  39.  27.  36.   9.  34.  nan  40.  16.  17.]\n",
            "[  1.   2.   3.   9.   4.  10.   5.   8.   6.   7.  nan]\n"
          ]
        }
      ],
      "source": [
        "print(azdias.LP_FAMILIE_FEIN.unique())\n",
        "print(azdias.LP_FAMILIE_GROB.unique())\n",
        "print(azdias.LP_STATUS_GROB.unique())\n",
        "print(azdias.LP_LEBENSPHASE_GROB.unique())\n",
        "print(azdias.LP_LEBENSPHASE_FEIN.unique())\n",
        "print(azdias.LP_STATUS_FEIN.unique())"
      ]
    },
    {
      "cell_type": "markdown",
      "metadata": {
        "id": "0Q4ZxfQbwmx8"
      },
      "source": [
        "**Also, in these columns there is a lot of information that can be compressed, which is done by the following function.**\n"
      ]
    },
    {
      "cell_type": "code",
      "execution_count": null,
      "metadata": {
        "id": "yQU-3_hZwmx8"
      },
      "outputs": [],
      "source": [
        "def fix_LP_cols(df):\n",
        "    \"\"\"\n",
        "    Function to replace 0s with nan values columns,\n",
        "    [\"LP_FAMILIE_FEIN\", \"LP_FAMILIE_GROB\", \"LP_LEBENSPHASE_FEIN\",\n",
        "           \"LP_LEBENSPHASE_GROB\", \"LP_STATUS_FEIN\", \"LP_STATUS_GROB\"]\n",
        "    \"\"\"\n",
        "    \n",
        "    # Replacing '0' with NaNs\n",
        "    cols = [\"LP_FAMILIE_FEIN\", \"LP_FAMILIE_GROB\", \"LP_LEBENSPHASE_FEIN\",\n",
        "           \"LP_LEBENSPHASE_GROB\", \"LP_STATUS_FEIN\", \"LP_STATUS_GROB\"]\n",
        "    \n",
        "    df[cols] = df[cols].replace({0: np.nan})\n",
        "    df[cols] = df[cols].astype(float)\n",
        "    \n",
        "    \n",
        "    \n",
        "    # LP_FAMILIE_GROB\n",
        "    convert_1 = {1: 'single', 2: 'couple', 3: 'singleparent', 4: 'singleparent', 5: 'singleparent', \n",
        "                  6: 'family', 7: 'family', 8: 'family', 9: 'multihousehold', 10: 'multihousehold', 11: 'multihousehold'}\n",
        "    convert_2 = {'single':0, 'couple':1, 'singleparent':2, 'family':3, 'multihousehold':4}\n",
        "    \n",
        "    df[\"LP_FAMILIE_GROB\"] = df[\"LP_FAMILIE_GROB\"].map(convert_1)\n",
        "    df[\"LP_FAMILIE_GROB\"] = df[\"LP_FAMILIE_GROB\"].map(convert_2)\n",
        "    \n",
        "    # LP_STATUS_GROB    \n",
        "    convert_1 = {1: 'lowincome', 2: 'lowincome', 3: 'avgincome', 4: 'avgincome', 5: 'avgincome', \n",
        "                  6: 'independant', 7: 'independant', 8: 'houseowner', 9: 'houseowner', 10: 'topearner'}\n",
        "    convert_2 = {'lowincome':0, 'avgincome':1, 'independant':2, 'houseowner':3, 'topearner':4}\n",
        "    \n",
        "    df[\"LP_STATUS_GROB\"] = df[\"LP_STATUS_GROB\"].map(convert_1)\n",
        "    df[\"LP_STATUS_GROB\"] = df[\"LP_STATUS_GROB\"].map(convert_2)\n",
        "    \n",
        "    \n",
        "    # LP_LEBENSPHASE_FEIN\n",
        "    life_stages = {1: 'younger_age', 2: 'middle_age', 3: 'younger_age',\n",
        "              4: 'middle_age', 5: 'advanced_age', 6: 'retirement_age',\n",
        "              7: 'advanced_age', 8: 'retirement_age', 9: 'middle_age',\n",
        "              10: 'middle_age', 11: 'advanced_age', 12: 'retirement_age',\n",
        "              13: 'advanced_age', 14: 'younger_age', 15: 'advanced_age',\n",
        "              16: 'advanced_age', 17: 'middle_age', 18: 'younger_age',\n",
        "              19: 'advanced_age', 20: 'advanced_age', 21: 'middle_age',\n",
        "              22: 'middle_age', 23: 'middle_age', 24: 'middle_age',\n",
        "              25: 'middle_age', 26: 'middle_age', 27: 'middle_age',\n",
        "              28: 'middle_age', 29: 'younger_age', 30: 'younger_age',\n",
        "              31: 'advanced_age', 32: 'advanced_age', 33: 'younger_age',\n",
        "              34: 'younger_age', 35: 'younger_age', 36: 'advanced_age',\n",
        "              37: 'advanced_age', 38: 'retirement_age', 39: 'middle_age',\n",
        "              40: 'retirement_age'}\n",
        "\n",
        "    wealth_scale = {1: 'low', 2: 'low', 3: 'average', 4: 'average', 5: 'low', 6: 'low',\n",
        "              7: 'average', 8: 'average', 9: 'average', 10: 'wealthy', 11: 'average',\n",
        "              12: 'average', 13: 'top', 14: 'average', 15: 'low', 16: 'average',\n",
        "              17: 'average', 18: 'wealthy', 19: 'wealthy', 20: 'top', 21: 'low',\n",
        "              22: 'average', 23: 'wealthy', 24: 'low', 25: 'average', 26: 'average',\n",
        "              27: 'average', 28: 'top', 29: 'low', 30: 'average', 31: 'low',\n",
        "              32: 'average', 33: 'average', 34: 'average', 35: 'top', 36: 'average',\n",
        "              37: 'average', 38: 'average', 39: 'top', 40: 'top'}\n",
        "    \n",
        "    df[\"Temp\"] = df[\"LP_LEBENSPHASE_FEIN\"]\n",
        "    \n",
        "    df[\"LP_LEBENSPHASE_FEIN\"] = df[\"LP_LEBENSPHASE_FEIN\"].map(life_stages)\n",
        "    df[\"LP_LEBENSPHASE_GROB\"] = df[\"Temp\"].map(wealth_scale)\n",
        "    \n",
        "    life_stages = {'younger_age': 1, 'middle_age': 2, 'advanced_age': 3,\n",
        "            'retirement_age': 4}\n",
        "    wealth_scale = {'low': 1, 'average': 2, 'wealthy': 3, 'top': 4}\n",
        "    \n",
        "    df[\"LP_LEBENSPHASE_FEIN\"] = df[\"LP_LEBENSPHASE_FEIN\"].map(life_stages)\n",
        "    df[\"LP_LEBENSPHASE_GROB\"] = df[\"LP_LEBENSPHASE_GROB\"].map(wealth_scale)\n",
        "        \n",
        "\n",
        "    return df"
      ]
    },
    {
      "cell_type": "code",
      "execution_count": null,
      "metadata": {
        "id": "0sbUfUZywmx-"
      },
      "outputs": [],
      "source": [
        "azdias = fix_LP_cols(azdias)\n",
        "customers = fix_LP_cols(customers)"
      ]
    },
    {
      "cell_type": "markdown",
      "metadata": {
        "id": "mB1u5r36wmx-"
      },
      "source": [
        "**It is important to note that most of the unknown values in the datset have been mapped either as -1, 0 or 9. First, we need to map these values to np.nan to get the actual number of Null Values**"
      ]
    },
    {
      "cell_type": "code",
      "execution_count": null,
      "metadata": {
        "id": "drCKALSNwmx-",
        "outputId": "952f938b-13a5-4fe1-b659-cada36d871bc"
      },
      "outputs": [
        {
          "data": {
            "text/html": [
              "<div>\n",
              "<style scoped>\n",
              "    .dataframe tbody tr th:only-of-type {\n",
              "        vertical-align: middle;\n",
              "    }\n",
              "\n",
              "    .dataframe tbody tr th {\n",
              "        vertical-align: top;\n",
              "    }\n",
              "\n",
              "    .dataframe thead th {\n",
              "        text-align: right;\n",
              "    }\n",
              "</style>\n",
              "<table border=\"1\" class=\"dataframe\">\n",
              "  <thead>\n",
              "    <tr style=\"text-align: right;\">\n",
              "      <th></th>\n",
              "      <th>Attribute</th>\n",
              "      <th>Description</th>\n",
              "      <th>Value</th>\n",
              "      <th>Meaning</th>\n",
              "    </tr>\n",
              "  </thead>\n",
              "  <tbody>\n",
              "    <tr>\n",
              "      <th>NaN</th>\n",
              "      <td>AGER_TYP</td>\n",
              "      <td>best-ager typology</td>\n",
              "      <td>-1</td>\n",
              "      <td>unknown</td>\n",
              "    </tr>\n",
              "    <tr>\n",
              "      <th>NaN</th>\n",
              "      <td>ALTERSKATEGORIE_GROB</td>\n",
              "      <td>age classification through prename analysis</td>\n",
              "      <td>-1, 0</td>\n",
              "      <td>unknown</td>\n",
              "    </tr>\n",
              "    <tr>\n",
              "      <th>NaN</th>\n",
              "      <td>ANREDE_KZ</td>\n",
              "      <td>gender</td>\n",
              "      <td>-1, 0</td>\n",
              "      <td>unknown</td>\n",
              "    </tr>\n",
              "    <tr>\n",
              "      <th>NaN</th>\n",
              "      <td>BALLRAUM</td>\n",
              "      <td>distance to next urban centre</td>\n",
              "      <td>-1</td>\n",
              "      <td>unknown</td>\n",
              "    </tr>\n",
              "    <tr>\n",
              "      <th>NaN</th>\n",
              "      <td>BIP_FLAG</td>\n",
              "      <td>business-flag indicating companies in the buil...</td>\n",
              "      <td>-1</td>\n",
              "      <td>unknown</td>\n",
              "    </tr>\n",
              "  </tbody>\n",
              "</table>\n",
              "</div>"
            ],
            "text/plain": [
              "                Attribute                                        Description  \\\n",
              "NaN              AGER_TYP                                 best-ager typology   \n",
              "NaN  ALTERSKATEGORIE_GROB       age classification through prename analysis    \n",
              "NaN             ANREDE_KZ                                             gender   \n",
              "NaN              BALLRAUM                     distance to next urban centre    \n",
              "NaN              BIP_FLAG  business-flag indicating companies in the buil...   \n",
              "\n",
              "     Value  Meaning  \n",
              "NaN     -1  unknown  \n",
              "NaN  -1, 0  unknown  \n",
              "NaN  -1, 0  unknown  \n",
              "NaN     -1  unknown  \n",
              "NaN     -1  unknown  "
            ]
          },
          "execution_count": 21,
          "metadata": {},
          "output_type": "execute_result"
        }
      ],
      "source": [
        "unknown_attri_values = attri_values[attri_values['Meaning'] == 'unknown']\n",
        "unknown_attri_values.head(5)"
      ]
    },
    {
      "cell_type": "code",
      "execution_count": null,
      "metadata": {
        "id": "MjrNnpTmwmx_",
        "outputId": "ea38f278-cf68-4fc8-e5a9-cdfe0f9b586b"
      },
      "outputs": [
        {
          "name": "stderr",
          "output_type": "stream",
          "text": [
            "/opt/conda/lib/python3.6/site-packages/ipykernel_launcher.py:1: SettingWithCopyWarning: \n",
            "A value is trying to be set on a copy of a slice from a DataFrame.\n",
            "Try using .loc[row_indexer,col_indexer] = value instead\n",
            "\n",
            "See the caveats in the documentation: http://pandas.pydata.org/pandas-docs/stable/indexing.html#indexing-view-versus-copy\n",
            "  \"\"\"Entry point for launching an IPython kernel.\n"
          ]
        },
        {
          "data": {
            "text/html": [
              "<div>\n",
              "<style scoped>\n",
              "    .dataframe tbody tr th:only-of-type {\n",
              "        vertical-align: middle;\n",
              "    }\n",
              "\n",
              "    .dataframe tbody tr th {\n",
              "        vertical-align: top;\n",
              "    }\n",
              "\n",
              "    .dataframe thead th {\n",
              "        text-align: right;\n",
              "    }\n",
              "</style>\n",
              "<table border=\"1\" class=\"dataframe\">\n",
              "  <thead>\n",
              "    <tr style=\"text-align: right;\">\n",
              "      <th></th>\n",
              "      <th>Attribute</th>\n",
              "      <th>Description</th>\n",
              "      <th>Value</th>\n",
              "      <th>Meaning</th>\n",
              "    </tr>\n",
              "  </thead>\n",
              "  <tbody>\n",
              "    <tr>\n",
              "      <th>NaN</th>\n",
              "      <td>AGER_TYP</td>\n",
              "      <td>best-ager typology</td>\n",
              "      <td>[-1]</td>\n",
              "      <td>unknown</td>\n",
              "    </tr>\n",
              "    <tr>\n",
              "      <th>NaN</th>\n",
              "      <td>ALTERSKATEGORIE_GROB</td>\n",
              "      <td>age classification through prename analysis</td>\n",
              "      <td>[-1,  0]</td>\n",
              "      <td>unknown</td>\n",
              "    </tr>\n",
              "    <tr>\n",
              "      <th>NaN</th>\n",
              "      <td>ANREDE_KZ</td>\n",
              "      <td>gender</td>\n",
              "      <td>[-1,  0]</td>\n",
              "      <td>unknown</td>\n",
              "    </tr>\n",
              "    <tr>\n",
              "      <th>NaN</th>\n",
              "      <td>BALLRAUM</td>\n",
              "      <td>distance to next urban centre</td>\n",
              "      <td>[-1]</td>\n",
              "      <td>unknown</td>\n",
              "    </tr>\n",
              "    <tr>\n",
              "      <th>NaN</th>\n",
              "      <td>BIP_FLAG</td>\n",
              "      <td>business-flag indicating companies in the buil...</td>\n",
              "      <td>[-1]</td>\n",
              "      <td>unknown</td>\n",
              "    </tr>\n",
              "  </tbody>\n",
              "</table>\n",
              "</div>"
            ],
            "text/plain": [
              "                Attribute                                        Description  \\\n",
              "NaN              AGER_TYP                                 best-ager typology   \n",
              "NaN  ALTERSKATEGORIE_GROB       age classification through prename analysis    \n",
              "NaN             ANREDE_KZ                                             gender   \n",
              "NaN              BALLRAUM                     distance to next urban centre    \n",
              "NaN              BIP_FLAG  business-flag indicating companies in the buil...   \n",
              "\n",
              "        Value  Meaning  \n",
              "NaN      [-1]  unknown  \n",
              "NaN  [-1,  0]  unknown  \n",
              "NaN  [-1,  0]  unknown  \n",
              "NaN      [-1]  unknown  \n",
              "NaN      [-1]  unknown  "
            ]
          },
          "execution_count": 22,
          "metadata": {},
          "output_type": "execute_result"
        }
      ],
      "source": [
        "unknown_attri_values['Value'] = unknown_attri_values['Value'].astype(str).str.split(\",\")\n",
        "unknown_attri_values.head()"
      ]
    },
    {
      "cell_type": "code",
      "execution_count": null,
      "metadata": {
        "id": "9GYssxifwmyF"
      },
      "outputs": [],
      "source": [
        "#Creating a function to return the different unknown values per attribute in a iterable format\n",
        "def to_flatten(my_list, primitives=(bool, str, int, float)):\n",
        "    flatten = [] #This list will hold the string values with whitespace in the left\n",
        "    for item in my_list:\n",
        "        if isinstance(item, primitives):\n",
        "            flatten.append(item)\n",
        "        else:\n",
        "            flatten.extend(item)\n",
        "    unknown = [] #We will remove the whitespace and convert it to int\n",
        "    for values in flatten:\n",
        "        value = int(values.lstrip())\n",
        "        unknown.append(value)\n",
        "    unknown = list(set(unknown)) #to count only unique values\n",
        "    return unknown\n",
        "\n",
        "def get_unknown(attribute, unknown_attri_values):\n",
        "    \n",
        "    my_list = unknown_attri_values[unknown_attri_values['Attribute'] == attribute]['Value'].values\n",
        "    unknown = to_flatten(my_list)\n",
        "    \n",
        "    return unknown"
      ]
    },
    {
      "cell_type": "code",
      "execution_count": null,
      "metadata": {
        "id": "SwP-nRSRwmyI"
      },
      "outputs": [],
      "source": [
        "#Creating a function to convert the unknown values from the dataset with NaN\n",
        "\n",
        "def replace_with_nan(x):\n",
        "    '''Replace the unknown values to nan'''\n",
        "    try:\n",
        "        if x in unknown:\n",
        "            return np.nan\n",
        "        else:\n",
        "            return x\n",
        "    except:\n",
        "        return x"
      ]
    },
    {
      "cell_type": "code",
      "execution_count": null,
      "metadata": {
        "id": "GTCqXQ_FwmyJ"
      },
      "outputs": [],
      "source": [
        "#Replacing the unknown values in the dataset to NaN values\n",
        "def replace_unknown(df, unknown_attri_values):\n",
        "    \"\"\"\n",
        "    Replaces unknown values to 'np.nan' in all the columns common to both unkown_attri_values \n",
        "    as well as azdias/customer dataset.\n",
        "    \"\"\"\n",
        "    for attribute in unknown_attri_values.Attribute:\n",
        "        unknown = get_unknown(attribute, unknown_attri_values)\n",
        "        if attribute in df.columns:\n",
        "            df[attribute] = df[attribute].apply(replace_with_nan)\n",
        "    return df"
      ]
    },
    {
      "cell_type": "code",
      "execution_count": null,
      "metadata": {
        "id": "f2Vh6f8gwmyK"
      },
      "outputs": [],
      "source": [
        "azdias = replace_unknown(azdias, unknown_attri_values)\n",
        "customers = replace_unknown(customers, unknown_attri_values)"
      ]
    },
    {
      "cell_type": "markdown",
      "metadata": {
        "id": "B5YB99PrwmyK"
      },
      "source": [
        "**Before cleaning for the Nan Values we can observe that we still have some columns in each DataSet with object as dtypes. We need to take care of it first.**"
      ]
    },
    {
      "cell_type": "code",
      "execution_count": null,
      "metadata": {
        "id": "JQfLvLHLwmyL",
        "outputId": "aab180b1-2855-4ae3-ea2e-9602cd9cdd1c"
      },
      "outputs": [
        {
          "data": {
            "text/html": [
              "<div>\n",
              "<style scoped>\n",
              "    .dataframe tbody tr th:only-of-type {\n",
              "        vertical-align: middle;\n",
              "    }\n",
              "\n",
              "    .dataframe tbody tr th {\n",
              "        vertical-align: top;\n",
              "    }\n",
              "\n",
              "    .dataframe thead th {\n",
              "        text-align: right;\n",
              "    }\n",
              "</style>\n",
              "<table border=\"1\" class=\"dataframe\">\n",
              "  <thead>\n",
              "    <tr style=\"text-align: right;\">\n",
              "      <th></th>\n",
              "      <th>CAMEO_DEU_2015</th>\n",
              "      <th>D19_LETZTER_KAUF_BRANCHE</th>\n",
              "      <th>EINGEFUEGT_AM</th>\n",
              "      <th>OST_WEST_KZ</th>\n",
              "    </tr>\n",
              "  </thead>\n",
              "  <tbody>\n",
              "    <tr>\n",
              "      <th>0</th>\n",
              "      <td>NaN</td>\n",
              "      <td>NaN</td>\n",
              "      <td>NaN</td>\n",
              "      <td>NaN</td>\n",
              "    </tr>\n",
              "    <tr>\n",
              "      <th>1</th>\n",
              "      <td>8A</td>\n",
              "      <td>NaN</td>\n",
              "      <td>1992-02-10 00:00:00</td>\n",
              "      <td>W</td>\n",
              "    </tr>\n",
              "    <tr>\n",
              "      <th>2</th>\n",
              "      <td>4C</td>\n",
              "      <td>D19_UNBEKANNT</td>\n",
              "      <td>1992-02-12 00:00:00</td>\n",
              "      <td>W</td>\n",
              "    </tr>\n",
              "    <tr>\n",
              "      <th>3</th>\n",
              "      <td>2A</td>\n",
              "      <td>D19_UNBEKANNT</td>\n",
              "      <td>1997-04-21 00:00:00</td>\n",
              "      <td>W</td>\n",
              "    </tr>\n",
              "    <tr>\n",
              "      <th>4</th>\n",
              "      <td>6B</td>\n",
              "      <td>D19_SCHUHE</td>\n",
              "      <td>1992-02-12 00:00:00</td>\n",
              "      <td>W</td>\n",
              "    </tr>\n",
              "  </tbody>\n",
              "</table>\n",
              "</div>"
            ],
            "text/plain": [
              "  CAMEO_DEU_2015 D19_LETZTER_KAUF_BRANCHE        EINGEFUEGT_AM OST_WEST_KZ\n",
              "0            NaN                      NaN                  NaN         NaN\n",
              "1             8A                      NaN  1992-02-10 00:00:00           W\n",
              "2             4C            D19_UNBEKANNT  1992-02-12 00:00:00           W\n",
              "3             2A            D19_UNBEKANNT  1997-04-21 00:00:00           W\n",
              "4             6B               D19_SCHUHE  1992-02-12 00:00:00           W"
            ]
          },
          "execution_count": 27,
          "metadata": {},
          "output_type": "execute_result"
        }
      ],
      "source": [
        "azdias.select_dtypes('object').head()"
      ]
    },
    {
      "cell_type": "code",
      "execution_count": null,
      "metadata": {
        "id": "KlV1x0w3wmyL",
        "outputId": "9d03654d-d31f-4c75-d58e-fa56bdcb2800"
      },
      "outputs": [
        {
          "data": {
            "text/html": [
              "<div>\n",
              "<style scoped>\n",
              "    .dataframe tbody tr th:only-of-type {\n",
              "        vertical-align: middle;\n",
              "    }\n",
              "\n",
              "    .dataframe tbody tr th {\n",
              "        vertical-align: top;\n",
              "    }\n",
              "\n",
              "    .dataframe thead th {\n",
              "        text-align: right;\n",
              "    }\n",
              "</style>\n",
              "<table border=\"1\" class=\"dataframe\">\n",
              "  <thead>\n",
              "    <tr style=\"text-align: right;\">\n",
              "      <th></th>\n",
              "      <th>Attribute</th>\n",
              "      <th>Description</th>\n",
              "      <th>Value</th>\n",
              "      <th>Meaning</th>\n",
              "    </tr>\n",
              "  </thead>\n",
              "  <tbody>\n",
              "    <tr>\n",
              "      <th>NaN</th>\n",
              "      <td>CAMEO_DEU_2015</td>\n",
              "      <td>CAMEO classification 2015 - detailled classifi...</td>\n",
              "      <td>1A</td>\n",
              "      <td>Work-Life-Balance</td>\n",
              "    </tr>\n",
              "    <tr>\n",
              "      <th>NaN</th>\n",
              "      <td>CAMEO_DEU_2015</td>\n",
              "      <td>NaN</td>\n",
              "      <td>1B</td>\n",
              "      <td>Wealthy Best Ager</td>\n",
              "    </tr>\n",
              "    <tr>\n",
              "      <th>NaN</th>\n",
              "      <td>CAMEO_DEU_2015</td>\n",
              "      <td>NaN</td>\n",
              "      <td>1C</td>\n",
              "      <td>Successful Songwriter</td>\n",
              "    </tr>\n",
              "    <tr>\n",
              "      <th>NaN</th>\n",
              "      <td>CAMEO_DEU_2015</td>\n",
              "      <td>NaN</td>\n",
              "      <td>1D</td>\n",
              "      <td>Old Nobility</td>\n",
              "    </tr>\n",
              "    <tr>\n",
              "      <th>NaN</th>\n",
              "      <td>CAMEO_DEU_2015</td>\n",
              "      <td>NaN</td>\n",
              "      <td>1E</td>\n",
              "      <td>City Nobility</td>\n",
              "    </tr>\n",
              "  </tbody>\n",
              "</table>\n",
              "</div>"
            ],
            "text/plain": [
              "          Attribute                                        Description Value  \\\n",
              "NaN  CAMEO_DEU_2015  CAMEO classification 2015 - detailled classifi...    1A   \n",
              "NaN  CAMEO_DEU_2015                                                NaN    1B   \n",
              "NaN  CAMEO_DEU_2015                                                NaN    1C   \n",
              "NaN  CAMEO_DEU_2015                                                NaN    1D   \n",
              "NaN  CAMEO_DEU_2015                                                NaN    1E   \n",
              "\n",
              "                   Meaning  \n",
              "NaN      Work-Life-Balance  \n",
              "NaN      Wealthy Best Ager  \n",
              "NaN  Successful Songwriter  \n",
              "NaN           Old Nobility  \n",
              "NaN          City Nobility  "
            ]
          },
          "execution_count": 28,
          "metadata": {},
          "output_type": "execute_result"
        }
      ],
      "source": [
        "attri_values[attri_values['Attribute'] == 'CAMEO_DEU_2015'].head()"
      ]
    },
    {
      "cell_type": "code",
      "execution_count": null,
      "metadata": {
        "id": "IgdZIz4zwmyL",
        "outputId": "8e8ad05c-565d-42e7-d80b-5829f55e4839"
      },
      "outputs": [
        {
          "data": {
            "text/html": [
              "<div>\n",
              "<style scoped>\n",
              "    .dataframe tbody tr th:only-of-type {\n",
              "        vertical-align: middle;\n",
              "    }\n",
              "\n",
              "    .dataframe tbody tr th {\n",
              "        vertical-align: top;\n",
              "    }\n",
              "\n",
              "    .dataframe thead th {\n",
              "        text-align: right;\n",
              "    }\n",
              "</style>\n",
              "<table border=\"1\" class=\"dataframe\">\n",
              "  <thead>\n",
              "    <tr style=\"text-align: right;\">\n",
              "      <th></th>\n",
              "      <th>Attribute</th>\n",
              "      <th>Description</th>\n",
              "      <th>Value</th>\n",
              "      <th>Meaning</th>\n",
              "    </tr>\n",
              "  </thead>\n",
              "  <tbody>\n",
              "    <tr>\n",
              "      <th>NaN</th>\n",
              "      <td>OST_WEST_KZ</td>\n",
              "      <td>flag indicating the former GDR/FRG</td>\n",
              "      <td>-1</td>\n",
              "      <td>unknown</td>\n",
              "    </tr>\n",
              "    <tr>\n",
              "      <th>NaN</th>\n",
              "      <td>OST_WEST_KZ</td>\n",
              "      <td>NaN</td>\n",
              "      <td>O</td>\n",
              "      <td>East (GDR)</td>\n",
              "    </tr>\n",
              "    <tr>\n",
              "      <th>NaN</th>\n",
              "      <td>OST_WEST_KZ</td>\n",
              "      <td>NaN</td>\n",
              "      <td>W</td>\n",
              "      <td>West (FRG)</td>\n",
              "    </tr>\n",
              "  </tbody>\n",
              "</table>\n",
              "</div>"
            ],
            "text/plain": [
              "       Attribute                         Description Value     Meaning\n",
              "NaN  OST_WEST_KZ  flag indicating the former GDR/FRG    -1     unknown\n",
              "NaN  OST_WEST_KZ                                 NaN     O  East (GDR)\n",
              "NaN  OST_WEST_KZ                                 NaN     W  West (FRG)"
            ]
          },
          "execution_count": 29,
          "metadata": {},
          "output_type": "execute_result"
        }
      ],
      "source": [
        "attri_values[attri_values['Attribute'] == 'OST_WEST_KZ']"
      ]
    },
    {
      "cell_type": "markdown",
      "metadata": {
        "id": "yDNT4s09wmyM"
      },
      "source": [
        "**The CAMEO_DEU_2015 column contains information as \"New German CAMEO Typology established together with Call Credit in late 2015\". We can map the values as defined in Attribute list in the function below**"
      ]
    },
    {
      "cell_type": "code",
      "execution_count": null,
      "metadata": {
        "id": "8NEouUKIwmyM"
      },
      "outputs": [],
      "source": [
        "def fix_cam_deu(df):\n",
        "    \n",
        "    '''Creating function to fix the CAMEO_DEU_2015 column by maping the proper values for Attributes file\n",
        "    with the values in the column'''\n",
        "\n",
        "    dict_1 = dict(list(enumerate(df['CAMEO_DEU_2015'].unique())))\n",
        "\n",
        "    dict_2 = dict([(value, key) for key, value in dict_1.items()])\n",
        "    \n",
        "    convert = dict_2\n",
        "    df['CAMEO_DEU_2015'] = df['CAMEO_DEU_2015'].map(convert)\n",
        "    \n",
        "    df['CAMEO_DEU_2015'] = df['CAMEO_DEU_2015'].replace({0: np.nan, 45: np.nan}) \n",
        "    \n",
        "    return df"
      ]
    },
    {
      "cell_type": "code",
      "execution_count": null,
      "metadata": {
        "id": "ATmfIZLfwmyN"
      },
      "outputs": [],
      "source": [
        "azdias = fix_cam_deu(azdias)\n",
        "customers = fix_cam_deu(customers)"
      ]
    },
    {
      "cell_type": "markdown",
      "metadata": {
        "id": "TFbBeaf2wmyN"
      },
      "source": [
        "**Now let's take care of OST_WEST_KZ. As per the Attributes Info \"flag indicating the former GDR/FRG\". We will map the values as defined in the Attributes Values file with the help of the following function**"
      ]
    },
    {
      "cell_type": "code",
      "execution_count": null,
      "metadata": {
        "id": "OFrzuJLxwmyO"
      },
      "outputs": [],
      "source": [
        "def fix_OST(df):\n",
        "    '''Creating function to fix the OST_WEST_KZ column by maping the proper values for Attributes file\n",
        "    with the values in the column'''\n",
        "    \n",
        "    convert = {-1: np.nan, 'O': 1, 'W': 0}\n",
        "    df['OST_WEST_KZ'] = df['OST_WEST_KZ'].map(convert)\n",
        "    \n",
        "    return df"
      ]
    },
    {
      "cell_type": "code",
      "execution_count": null,
      "metadata": {
        "id": "nFVCYUB9wmyO"
      },
      "outputs": [],
      "source": [
        "azdias = fix_OST(azdias)\n",
        "customers = fix_OST(customers)"
      ]
    },
    {
      "cell_type": "markdown",
      "metadata": {
        "id": "cYxXPWjYwmyO"
      },
      "source": [
        "**There is no information available regarding the 'D19_LETZTER_KAUF_BRANCHE' column. Further inspection suggest that the column has values of 'The last purchase branch'. We can safely drop the column as such.**"
      ]
    },
    {
      "cell_type": "code",
      "execution_count": null,
      "metadata": {
        "id": "kPKEFyp5wmyP"
      },
      "outputs": [],
      "source": [
        "azdias.drop('D19_LETZTER_KAUF_BRANCHE', axis = 1, inplace = True)\n",
        "customers.drop('D19_LETZTER_KAUF_BRANCHE', axis = 1, inplace = True)"
      ]
    },
    {
      "cell_type": "markdown",
      "metadata": {
        "id": "LO6RxkcCwmyP"
      },
      "source": [
        "**EINGEFUEGT_AM Columns seems to be a datetime column which is mapped as object. We need to convert it into datetime and pick the year from the values.**"
      ]
    },
    {
      "cell_type": "code",
      "execution_count": null,
      "metadata": {
        "id": "hPI0ZsLAwmyQ"
      },
      "outputs": [],
      "source": [
        "def fix_EINGEFUEFGT(df):\n",
        "    \n",
        "    '''Creating function to fix the EINGEFUEGT_AM column by coverting the values in the column to datetime format and then picking\n",
        "    Year from the same. The new column will contain only the Year'''\n",
        "\n",
        "    df['EINGEFUEGT_AM'] = pd.to_datetime(df['EINGEFUEGT_AM'], infer_datetime_format=True)\n",
        "    df['EINGEFUEGT_AM'] = pd.DatetimeIndex(df['EINGEFUEGT_AM']).year\n",
        "    \n",
        "    return df"
      ]
    },
    {
      "cell_type": "code",
      "execution_count": null,
      "metadata": {
        "id": "OekVJx1HwmyR"
      },
      "outputs": [],
      "source": [
        "azdias = fix_EINGEFUEFGT(azdias)\n",
        "customers = fix_EINGEFUEFGT(customers)"
      ]
    },
    {
      "cell_type": "markdown",
      "metadata": {
        "id": "itcSOEFjwmyR"
      },
      "source": [
        "**ANDRE_KZ atttributes contain category as Male and Female with coding 1 and 2 respectively. We can map the values as 0 and 1 for ease in standardizing**"
      ]
    },
    {
      "cell_type": "code",
      "execution_count": null,
      "metadata": {
        "id": "bUETUsR_wmyT"
      },
      "outputs": [],
      "source": [
        "def fix_ANDREDE(df):\n",
        "    '''Creating a function to map the values of ANDRE_KZ column to 0, 1'''\n",
        "\n",
        "    df['ANREDE_KZ'] = df['ANREDE_KZ'].replace({1: 0, 2: 1})\n",
        "    \n",
        "    return df"
      ]
    },
    {
      "cell_type": "code",
      "execution_count": null,
      "metadata": {
        "id": "GEiWbCaBwmyT"
      },
      "outputs": [],
      "source": [
        "azdias = fix_ANDREDE(azdias)\n",
        "customers = fix_ANDREDE(customers)"
      ]
    },
    {
      "cell_type": "markdown",
      "metadata": {
        "id": "EeowPzIMwmyU"
      },
      "source": [
        "**We have 0 as a value in WOHNLAGE which can be mapped to NaN.**"
      ]
    },
    {
      "cell_type": "code",
      "execution_count": null,
      "metadata": {
        "id": "576QkWNjwmyV"
      },
      "outputs": [],
      "source": [
        "def fix_WOHNLAGE(df):\n",
        "    '''Fixing WOHNLAGE by replacing 0 with NaN'''\n",
        "    convert = {0: np.nan}\n",
        "    \n",
        "    df['WOHNLAGE'] = df['WOHNLAGE'].replace({0: np.nan})\n",
        "    \n",
        "    return df\n",
        "    "
      ]
    },
    {
      "cell_type": "code",
      "execution_count": null,
      "metadata": {
        "id": "yhgn_dZewmyV"
      },
      "outputs": [],
      "source": [
        "azdias = fix_WOHNLAGE(azdias)\n",
        "customers = fix_WOHNLAGE(customers)"
      ]
    },
    {
      "cell_type": "markdown",
      "metadata": {
        "id": "81jvzs-hwmyV"
      },
      "source": [
        "**Further LNR is id of the people, not the feature itself which needs to be dropped**"
      ]
    },
    {
      "cell_type": "code",
      "execution_count": null,
      "metadata": {
        "id": "zEmE0C6HwmyV"
      },
      "outputs": [],
      "source": [
        "azdias = azdias.drop(\"LNR\", axis=1)\n",
        "customers = customers.drop(\"LNR\", axis=1)"
      ]
    },
    {
      "cell_type": "markdown",
      "metadata": {
        "id": "YMu2hBcYwmyX"
      },
      "source": [
        "# **Attacking Missing Values**"
      ]
    },
    {
      "cell_type": "markdown",
      "metadata": {
        "id": "6NJqCgPMwmyY"
      },
      "source": [
        "**Let's try and fix missing values. First we will look at the percentage of Null Values in the columns where percentage is more than 30% and will drop those columns as not much information can be gained.**"
      ]
    },
    {
      "cell_type": "code",
      "execution_count": null,
      "metadata": {
        "id": "hhEE9mg5wmyZ"
      },
      "outputs": [],
      "source": [
        "def get_missing_perc(df):\n",
        "    '''Creating a datframe with missing percentage for each attribute columns. \n",
        "    '''\n",
        "    missing_perc = df.isna().sum() * 100 / len(df)\n",
        "    missing_perc_df = pd.DataFrame({\"Attribute\": df.columns,\n",
        "                                  \"Missing Percent\": missing_perc}).reset_index(drop = True)\n",
        "    return missing_perc_df"
      ]
    },
    {
      "cell_type": "code",
      "execution_count": null,
      "metadata": {
        "id": "p0ApmTtcwmyZ"
      },
      "outputs": [],
      "source": [
        "azd_miss_report = get_missing_perc(azdias)\n",
        "cust_miss_report = get_missing_perc(customers)"
      ]
    },
    {
      "cell_type": "code",
      "execution_count": null,
      "metadata": {
        "id": "n5seK7tiwmya"
      },
      "outputs": [],
      "source": [
        "#Let's plot the percentage to have a better understanding\n",
        "def plot_percentage_missing(df1, df2, percentage=0, figsize=(10,70)):\n",
        "    \"\"\"\n",
        "    Takes in two dataframes and plots a barchart comparing two dataframes\n",
        "    features and percentage of missing values based on a threshold percentage given\n",
        "    \"\"\"\n",
        "    fig = plt.figure(figsize=figsize)\n",
        "\n",
        "    fig.suptitle(\"Missing Data percentages\")\n",
        "\n",
        "    ax = fig.add_subplot(121)\n",
        "    ax.set_title(\"Azdias\")\n",
        "    sns.barplot(y=\"Attribute\", x=\"Missing Percent\", \n",
        "                data=df1[df1[\"Missing Percent\"]>percentage], ax= ax)\n",
        "\n",
        "    ax = fig.add_subplot(122)\n",
        "    ax.set_title(\"Customer\")\n",
        "    sns.barplot(y=\"Attribute\", x=\"Missing Percent\", \n",
        "                data=df2[df2[\"Missing Percent\"]>percentage], ax= ax)\n",
        "\n",
        "    fig.tight_layout(rect=[0, 0.03, 1, 0.975])\n",
        "    plt.show()\n"
      ]
    },
    {
      "cell_type": "code",
      "execution_count": null,
      "metadata": {
        "id": "0y52Bh7-wmyb",
        "outputId": "82da6775-b2ce-42fb-f378-de129febda27"
      },
      "outputs": [
        {
          "data": {
            "image/png": "[encoded data removed]",
            "text/plain": [
              "<matplotlib.figure.Figure at 0x7f3429f47588>"
            ]
          },
          "metadata": {
            "needs_background": "light"
          },
          "output_type": "display_data"
        }
      ],
      "source": [
        "plot_percentage_missing(azd_miss_report, cust_miss_report, percentage=0)"
      ]
    },
    {
      "cell_type": "code",
      "execution_count": null,
      "metadata": {
        "id": "8c2GA0UJwmyb",
        "outputId": "028ca93b-c6cd-42cc-9e78-8a12785ef886"
      },
      "outputs": [
        {
          "data": {
            "image/png": "[encoded data removed]",
            "text/plain": [
              "<matplotlib.figure.Figure at 0x7f3429c849e8>"
            ]
          },
          "metadata": {
            "needs_background": "light"
          },
          "output_type": "display_data"
        }
      ],
      "source": [
        "plot_percentage_missing(azd_miss_report, cust_miss_report, percentage=30)"
      ]
    },
    {
      "cell_type": "markdown",
      "metadata": {
        "id": "BMda3dDewmyb"
      },
      "source": [
        "**From above, it looks like 6 columns in our cleaned datset have missing values more than 40%. We may choose to drop these columns with missing values more than 40% as not much of the information can be retrieved**"
      ]
    },
    {
      "cell_type": "code",
      "execution_count": null,
      "metadata": {
        "id": "WkozddFnwmyc"
      },
      "outputs": [],
      "source": [
        "missing_cols = azd_miss_report[azd_miss_report['Missing Percent'] >= 30].Attribute.tolist()\n",
        "azdias.drop(missing_cols, axis = 1, inplace = True)\n",
        "customers.drop(missing_cols, axis = 1, inplace = True)"
      ]
    },
    {
      "cell_type": "markdown",
      "metadata": {
        "id": "iYLSFzdgwmyc"
      },
      "source": [
        "**Let's look at the missing values row wise.**"
      ]
    },
    {
      "cell_type": "code",
      "execution_count": null,
      "metadata": {
        "id": "qTKQloHbwmyc"
      },
      "outputs": [],
      "source": [
        "def plot_missing_row_wise(df1, df2, bins=30, figsize=(10,6)):\n",
        "    \"\"\"\n",
        "    Takes in two dataframes and plots a barchart comparing two dataframes\n",
        "    rows and percentage of missing values based on a threshold percentage given\n",
        "    \"\"\"\n",
        "    bins = 30\n",
        "    fig = plt.figure(figsize=figsize)\n",
        "\n",
        "    ax = fig.add_subplot(111)\n",
        "    ax.set_title(\"No. of Missing features Row-wise\")\n",
        "    ax.set_xlabel(\"No. of Missing Features\")\n",
        "    ax.set_ylabel(\"No. of Rows\")\n",
        "    sns.distplot(df1.isnull().sum(axis=1), bins, kde=False, ax=ax, label=\"Azdias\")\n",
        "    sns.distplot(df2.isnull().sum(axis=1), bins, kde=False, ax=ax, label=\"Customers\")\n",
        "    ax.legend()\n",
        "    \n",
        "    plt.show()\n",
        "\n"
      ]
    },
    {
      "cell_type": "code",
      "execution_count": null,
      "metadata": {
        "id": "9bvJSa60wmyc",
        "outputId": "9ffff8e0-a15e-4e22-8fcf-59f610f91411"
      },
      "outputs": [
        {
          "data": {
            "image/png": "[encoded data removed]",
            "text/plain": [
              "<matplotlib.figure.Figure at 0x7f342b15ec18>"
            ]
          },
          "metadata": {
            "needs_background": "light"
          },
          "output_type": "display_data"
        }
      ],
      "source": [
        "plot_missing_row_wise(azdias, customers);"
      ]
    },
    {
      "cell_type": "markdown",
      "metadata": {
        "id": "wmHK7f0fwmyd"
      },
      "source": [
        "**We will delete the rows with Null values more than 50 as they will not help us in analysis**"
      ]
    },
    {
      "cell_type": "code",
      "execution_count": null,
      "metadata": {
        "id": "2se0VcJRwmyd"
      },
      "outputs": [],
      "source": [
        "def remove_missing_rows(df, threshold, name=\"\"):\n",
        "    \"\"\"\n",
        "    Takes in a dataframe and drops rows with number of missing features \n",
        "    as per given threshold.\n",
        "    \"\"\"\n",
        "\n",
        "    df = df.dropna(thresh=df.shape[1]-threshold)\n",
        "    \n",
        "    # Reset index\n",
        "    df = df.reset_index()\n",
        "    del df['index']\n",
        "    \n",
        "    return df"
      ]
    },
    {
      "cell_type": "code",
      "execution_count": null,
      "metadata": {
        "id": "pnbtkweewmye"
      },
      "outputs": [],
      "source": [
        "azdias = remove_missing_rows(azdias, threshold = 50)\n",
        "customers = remove_missing_rows(customers, threshold = 50)"
      ]
    },
    {
      "cell_type": "code",
      "execution_count": null,
      "metadata": {
        "id": "zZtv09_bwmye",
        "outputId": "7b9aafa3-2247-4b76-ea48-c3c499f2d095"
      },
      "outputs": [
        {
          "data": {
            "image/png": "[encoded data removed]",
            "text/plain": [
              "<matplotlib.figure.Figure at 0x7f342b222320>"
            ]
          },
          "metadata": {
            "needs_background": "light"
          },
          "output_type": "display_data"
        }
      ],
      "source": [
        "plot_missing_row_wise(azdias, customers)"
      ]
    },
    {
      "cell_type": "code",
      "execution_count": null,
      "metadata": {
        "id": "dVdK7kkewmyf",
        "outputId": "ffdd9300-2a52-4fdf-9dfb-d7f3b7778bbc"
      },
      "outputs": [
        {
          "name": "stdout",
          "output_type": "stream",
          "text": [
            "(751331, 359)\n",
            "\n",
            "\n",
            "(135144, 362)\n"
          ]
        }
      ],
      "source": [
        "print (azdias.shape)\n",
        "print ('\\n')\n",
        "print (customers.shape)"
      ]
    },
    {
      "cell_type": "markdown",
      "metadata": {
        "id": "9dLkt68owmyf"
      },
      "source": [
        "**Let's seperate the extra columns from the customers dataset by creating a new dataset.**"
      ]
    },
    {
      "cell_type": "code",
      "execution_count": null,
      "metadata": {
        "id": "_8NtZl5owmyf"
      },
      "outputs": [],
      "source": [
        "customers = customers.drop(Extra_columns, axis = 1)"
      ]
    },
    {
      "cell_type": "markdown",
      "metadata": {
        "id": "HITq9D-Wwmyg"
      },
      "source": [
        "**Now we need to Impute the NaN values in our dataset. We understand the data present is demographic data of the people. It makes sense to fill the NaN values with the most common data available in each Attributes columns.**"
      ]
    },
    {
      "cell_type": "code",
      "execution_count": null,
      "metadata": {
        "id": "2u2Ps7Ehwmyh"
      },
      "outputs": [],
      "source": [
        "#from sklearn.impute import SimpleImputer\n",
        "#imputer = SimpleImputer(strategy = \"most_frequent\")"
      ]
    },
    {
      "cell_type": "code",
      "execution_count": null,
      "metadata": {
        "id": "vmIxCKWLwmyh"
      },
      "outputs": [],
      "source": [
        "from sklearn.preprocessing import Imputer\n",
        "imputer = Imputer(strategy = \"most_frequent\")"
      ]
    },
    {
      "cell_type": "markdown",
      "metadata": {
        "id": "PJXEkMUlwmyi"
      },
      "source": [
        "**Since our Training data comes from azdias, we will fit_transform the azdias and only transform the customers dataset.**"
      ]
    },
    {
      "cell_type": "code",
      "execution_count": null,
      "metadata": {
        "id": "ZK6EXEUFwmyj"
      },
      "outputs": [],
      "source": [
        "azdias = pd.DataFrame(imputer.fit_transform(azdias), columns = azdias.columns)\n",
        "customers = pd.DataFrame(imputer.transform(customers), columns = customers.columns)"
      ]
    },
    {
      "cell_type": "markdown",
      "metadata": {
        "id": "8u8iQqY2wmyk"
      },
      "source": [
        "**We will scale our data,so as to make sure our all our features remain in the same range**"
      ]
    },
    {
      "cell_type": "code",
      "execution_count": null,
      "metadata": {
        "id": "6gwO07YHwmyk"
      },
      "outputs": [],
      "source": [
        "from sklearn.preprocessing import StandardScaler\n",
        "scale = StandardScaler()\n",
        "\n",
        "azdias = pd.DataFrame(scale.fit_transform(azdias), columns = azdias.columns)\n",
        "customers = pd.DataFrame(scale.transform(customers), columns = customers.columns) "
      ]
    },
    {
      "cell_type": "markdown",
      "metadata": {
        "id": "hQ6cTsXOwmyl"
      },
      "source": [
        "**We will save the cleaned dataset so that it can be loaded easily for further analysis**"
      ]
    },
    {
      "cell_type": "code",
      "execution_count": null,
      "metadata": {
        "id": "jv1xYKrcwmym"
      },
      "outputs": [],
      "source": [
        "#azdias.to_csv(\"azdias_cleaned\", index = False)\n",
        "#customers.to_csv(\"customers_cleaned\", index = False)"
      ]
    },
    {
      "cell_type": "markdown",
      "metadata": {
        "id": "8FoWzXpIwmyn"
      },
      "source": [
        "## Part 1: Customer Segmentation Report\n",
        "\n",
        "The main bulk of your analysis will come in this part of the project. Here, you should use unsupervised learning techniques to describe the relationship between the demographics of the company's existing customers and the general population of Germany. By the end of this part, you should be able to describe parts of the general population that are more likely to be part of the mail-order company's main customer base, and which parts of the general population are less so."
      ]
    },
    {
      "cell_type": "markdown",
      "metadata": {
        "id": "4Kr3McxLwmyo"
      },
      "source": [
        "**We can see that we have too many features for performing analysis. However not all features are important. To choose the important features, we can try dimensionality reduction technique using PCA**"
      ]
    },
    {
      "cell_type": "code",
      "execution_count": null,
      "metadata": {
        "id": "3jkX3chbwmyo"
      },
      "outputs": [],
      "source": [
        "pca = PCA()"
      ]
    },
    {
      "cell_type": "code",
      "execution_count": null,
      "metadata": {
        "id": "A5RawdLhwmyp",
        "outputId": "717ca2ff-b768-4997-d44d-9204ef69683c"
      },
      "outputs": [
        {
          "data": {
            "text/plain": [
              "array([ 0.08271059,  0.07276108,  0.05194873,  0.0454953 ,  0.03888909,\n",
              "        0.02263044,  0.01970299,  0.01679212,  0.01524919,  0.01413542,\n",
              "        0.01231631])"
            ]
          },
          "execution_count": 64,
          "metadata": {},
          "output_type": "execute_result"
        }
      ],
      "source": [
        "azdias_pca = pca.fit(azdias) #Fitting our data to PCA\n",
        "azdias_pca.explained_variance_ratio_[0:11]#Top 10 features nearly explains 36% of the data"
      ]
    },
    {
      "cell_type": "code",
      "execution_count": null,
      "metadata": {
        "id": "_Lu-fk-qwmyq",
        "outputId": "c4a5c4e4-fb8c-49f3-bb1d-85f2d42baaea"
      },
      "outputs": [
        {
          "data": {
            "image/png": "[encoded data removed]",
            "text/plain": [
              "<matplotlib.figure.Figure at 0x7f342b06fb38>"
            ]
          },
          "metadata": {
            "needs_background": "light"
          },
          "output_type": "display_data"
        }
      ],
      "source": [
        "#Let's try to find the number of essential features using the PCA plot of ratio of Variance and number of features\n",
        "#Plot to find the optimal number of features which will explain atleast 80% of our data\n",
        "plt.figure(figsize = (18, 10))\n",
        "plt.plot(range(len(azdias.columns)), azdias_pca.explained_variance_ratio_.cumsum(), marker = 'o', linestyle = '--' )\n",
        "plt.xlabel('Number of components')\n",
        "plt.ylabel('Cummulative Explained Variance')\n",
        "plt.title('Explained Variance by Components')\n",
        "plt.show()"
      ]
    },
    {
      "cell_type": "markdown",
      "metadata": {
        "id": "TWJNK9CJwmyq"
      },
      "source": [
        "**From the graph we observe that 120 components are enough to explain 80% variability in the data.**"
      ]
    },
    {
      "cell_type": "code",
      "execution_count": null,
      "metadata": {
        "id": "6J_a8IcAwmyr"
      },
      "outputs": [],
      "source": [
        "pca_120 = PCA(n_components = 120) #We will choose 120 as number of components"
      ]
    },
    {
      "cell_type": "code",
      "execution_count": null,
      "metadata": {
        "id": "zBYHRrm2wmys"
      },
      "outputs": [],
      "source": [
        "pca_120.fit(azdias)\n",
        "azdias_pca_120 = pca_120.transform(azdias)"
      ]
    },
    {
      "cell_type": "markdown",
      "metadata": {
        "id": "ciIX2K2Gwmys"
      },
      "source": [
        "**Let's now run KMeans for specifying the clusters in which we group our data**"
      ]
    },
    {
      "cell_type": "code",
      "execution_count": null,
      "metadata": {
        "id": "csEBuaxVwmys"
      },
      "outputs": [],
      "source": [
        "#Let's start with determining the number of clusters needed\n",
        "wcss = []  #Empty list of sum of squared distance of data points within each cluster\n",
        "for i in range(2, 22, 2): #running the loop ten times to find the optimal number of clusters\n",
        "  kmeans = KMeans(n_clusters = i, init = 'k-means++', random_state = 101) #k-means++ will initialize a seed for cluster centroid \n",
        "  kmeans.fit(azdias_pca_120)\n",
        "  wcss.append(kmeans.inertia_) #kmeans.inertia_ will provide the sum of squared distance of each data component from the cluster centroid"
      ]
    },
    {
      "cell_type": "code",
      "execution_count": null,
      "metadata": {
        "id": "XOJk5aMTwmyt",
        "outputId": "fac01dc9-6979-4385-d580-0fb37845e46b"
      },
      "outputs": [
        {
          "data": {
            "image/png": "[encoded data removed]",
            "text/plain": [
              "<matplotlib.figure.Figure at 0x7f3429d7de80>"
            ]
          },
          "metadata": {
            "needs_background": "light"
          },
          "output_type": "display_data"
        }
      ],
      "source": [
        "#The next step involves plotting the WCSS against the number of components on a graph. \n",
        "plt.figure(figsize = (12, 6))\n",
        "plt.plot(range(2, 22, 2), wcss, marker = 'o', linestyle = '--')\n",
        "plt.title('Clusters in K-Means')\n",
        "plt.xlabel('Number of Clusters')\n",
        "plt.ylabel('Sum of Squared distance')\n",
        "plt.show()"
      ]
    },
    {
      "cell_type": "markdown",
      "metadata": {
        "id": "8K54SCt9wmyt"
      },
      "source": [
        "Now to choose the number of optimal clusters, we will deploy the Elbow Method by plotting the wcss over the defined range of clusters. The main idea is to choose the cluster value in such a way that beyond it, the decrease in the Sum of Squared distance is only marginal and will not have a bigger impact in our analysis. However, the choice is subjective and there is no correct answer for it.\n",
        "\n",
        "Looking at above we can observe that anything between 7-10 clusters are enough to segment our data in most optimal way. We will choose 8 Clusters for our analysis.\n",
        "\n",
        "All we needed to do now is to implement the number of clusters in our algorithm"
      ]
    },
    {
      "cell_type": "code",
      "execution_count": null,
      "metadata": {
        "id": "T77rIcP_wmyt"
      },
      "outputs": [],
      "source": [
        "kmeans_pca = KMeans(n_clusters = 8, init = 'k-means++', random_state = 101)"
      ]
    },
    {
      "cell_type": "code",
      "execution_count": null,
      "metadata": {
        "id": "n8Nt_Dwhwmyv"
      },
      "outputs": [],
      "source": [
        "kmeans_pca.fit(azdias_pca_120)\n",
        "azdias_clusters = kmeans_pca.predict(azdias_pca_120)"
      ]
    },
    {
      "cell_type": "code",
      "execution_count": null,
      "metadata": {
        "id": "QVCLAP-lwmyv"
      },
      "outputs": [],
      "source": [
        "customers_pca_120 = pca_120.transform(customers) #Running the PCA and KMEans on customers dataset based on the findings above"
      ]
    },
    {
      "cell_type": "code",
      "execution_count": null,
      "metadata": {
        "id": "vFry2heWwmyw"
      },
      "outputs": [],
      "source": [
        "customers_clusters = kmeans_pca.predict(customers_pca_120)"
      ]
    },
    {
      "cell_type": "code",
      "execution_count": null,
      "metadata": {
        "id": "v2DqcSt6wmyx",
        "outputId": "1dbab5a0-3ace-42b7-dc0e-7ce0f5596adc"
      },
      "outputs": [
        {
          "data": {
            "text/html": [
              "<div>\n",
              "<style scoped>\n",
              "    .dataframe tbody tr th:only-of-type {\n",
              "        vertical-align: middle;\n",
              "    }\n",
              "\n",
              "    .dataframe tbody tr th {\n",
              "        vertical-align: top;\n",
              "    }\n",
              "\n",
              "    .dataframe thead th {\n",
              "        text-align: right;\n",
              "    }\n",
              "</style>\n",
              "<table border=\"1\" class=\"dataframe\">\n",
              "  <thead>\n",
              "    <tr style=\"text-align: right;\">\n",
              "      <th></th>\n",
              "      <th>Clusters</th>\n",
              "      <th>Population</th>\n",
              "      <th>Customers</th>\n",
              "    </tr>\n",
              "  </thead>\n",
              "  <tbody>\n",
              "    <tr>\n",
              "      <th>0</th>\n",
              "      <td>0</td>\n",
              "      <td>14043</td>\n",
              "      <td>898</td>\n",
              "    </tr>\n",
              "    <tr>\n",
              "      <th>1</th>\n",
              "      <td>1</td>\n",
              "      <td>71200</td>\n",
              "      <td>4372</td>\n",
              "    </tr>\n",
              "    <tr>\n",
              "      <th>2</th>\n",
              "      <td>2</td>\n",
              "      <td>124686</td>\n",
              "      <td>40561</td>\n",
              "    </tr>\n",
              "    <tr>\n",
              "      <th>3</th>\n",
              "      <td>3</td>\n",
              "      <td>125921</td>\n",
              "      <td>38717</td>\n",
              "    </tr>\n",
              "    <tr>\n",
              "      <th>4</th>\n",
              "      <td>4</td>\n",
              "      <td>126746</td>\n",
              "      <td>1406</td>\n",
              "    </tr>\n",
              "  </tbody>\n",
              "</table>\n",
              "</div>"
            ],
            "text/plain": [
              "   Clusters  Population  Customers\n",
              "0         0       14043        898\n",
              "1         1       71200       4372\n",
              "2         2      124686      40561\n",
              "3         3      125921      38717\n",
              "4         4      126746       1406"
            ]
          },
          "execution_count": 77,
          "metadata": {},
          "output_type": "execute_result"
        }
      ],
      "source": [
        "#Creating a dataframe for the number of clusters \n",
        "#for doing comparative analysis of customers with Population\n",
        "azdias_clusters = pd.Series(azdias_clusters)\n",
        "customers_clusters = pd.Series(customers_clusters)\n",
        "\n",
        "cluster_df = pd.DataFrame([])\n",
        "\n",
        "cluster_df['Population'] = azdias_clusters.value_counts().sort_index()\n",
        "cluster_df['Customers'] = customers_clusters.value_counts().sort_index()\n",
        "cluster_df.reset_index(inplace=True)\n",
        "cluster_df.rename(columns = {'index':'Clusters'}, inplace = True)\n",
        "cluster_df.head()"
      ]
    },
    {
      "cell_type": "markdown",
      "metadata": {
        "id": "W2Dk64-Iwmyx"
      },
      "source": [
        "**Let's find the ratio of customers to the general population cluster-wise**"
      ]
    },
    {
      "cell_type": "code",
      "execution_count": null,
      "metadata": {
        "id": "9PeJbdD7wmyy",
        "outputId": "dc186550-7656-4f72-c9b0-3a8b2f5b6f3a"
      },
      "outputs": [
        {
          "data": {
            "image/png": "[encoded data removed]",
            "text/plain": [
              "<matplotlib.figure.Figure at 0x7f342a0e2400>"
            ]
          },
          "metadata": {
            "needs_background": "light"
          },
          "output_type": "display_data"
        }
      ],
      "source": [
        "cluster_df['Proportions'] = cluster_df['Customers'] / cluster_df['Population']\n",
        "\n",
        "fig, ax = plt.subplots(1, 1, figsize = (8, 6))\n",
        "ax.bar(cluster_df['Clusters'], cluster_df['Proportions'])\n",
        "ax.set_xlabel(\"Clusters\")\n",
        "ax.set_ylabel(\"Proportions\")\n",
        "ax.set_title(\"Ratio of Customers to Population\")\n",
        "plt.show()"
      ]
    },
    {
      "cell_type": "markdown",
      "metadata": {
        "id": "86FJO_Rpwmyz"
      },
      "source": [
        "**Now Let's find the proportions of customers as well as population in each cluster**"
      ]
    },
    {
      "cell_type": "code",
      "execution_count": null,
      "metadata": {
        "id": "glTjkRtswmyz"
      },
      "outputs": [],
      "source": [
        "cluster_df['Customers_Prop'] = (cluster_df['Customers'] / cluster_df['Customers'].sum() * 100).round(2)\n",
        "cluster_df['Population_Prop'] = (cluster_df['Population'] / cluster_df['Population'].sum() * 100).round(2)"
      ]
    },
    {
      "cell_type": "code",
      "execution_count": null,
      "metadata": {
        "id": "b5eQVobwwmyz",
        "outputId": "29f83bd5-2593-44d8-d028-869174c07c03"
      },
      "outputs": [
        {
          "data": {
            "image/png": "[encoded data removed]",
            "text/plain": [
              "<matplotlib.figure.Figure at 0x7f342bc832e8>"
            ]
          },
          "metadata": {
            "needs_background": "light"
          },
          "output_type": "display_data"
        }
      ],
      "source": [
        "fig, (ax1, ax2) = plt.subplots(1, 2, figsize = (10, 6))\n",
        "\n",
        "ax1.bar(cluster_df['Clusters'], cluster_df['Customers_Prop'])\n",
        "ax1.set_xlabel(\"Clusters\")\n",
        "ax1.set_ylabel(\"Proportions\")\n",
        "ax1.set_title(\"Ratio of Customers in each cluster\")\n",
        "\n",
        "ax2.bar(cluster_df['Clusters'], cluster_df['Population_Prop'])\n",
        "ax2.set_xlabel(\"Clusters\")\n",
        "ax2.set_ylabel(\"Proportions\")\n",
        "ax2.set_title(\"Ratio of Populations in each cluster\")\n",
        "\n",
        "fig.suptitle(\"Percentage under each cluster\")\n",
        "plt.show()"
      ]
    },
    {
      "cell_type": "markdown",
      "metadata": {
        "id": "DhiMfI-owmy0"
      },
      "source": [
        "**From above we can see that majority of the customers are lying in Clusters - 2, 3, 7 Whereas cluster 0 and 4 are most under-represented.**"
      ]
    },
    {
      "cell_type": "markdown",
      "metadata": {
        "id": "OB7XeKtLwmy0"
      },
      "source": [
        "## Part 2: Supervised Learning Model\n",
        "\n",
        "Now that you've found which parts of the population are more likely to be customers of the mail-order company, it's time to build a prediction model. Each of the rows in the \"MAILOUT\" data files represents an individual that was targeted for a mailout campaign. Ideally, we should be able to use the demographic information from each individual to decide whether or not it will be worth it to include that person in the campaign.\n",
        "\n",
        "The \"MAILOUT\" data has been split into two approximately equal parts, each with almost 43 000 data rows. In this part, you can verify your model with the \"TRAIN\" partition, which includes a column, \"RESPONSE\", that states whether or not a person became a customer of the company following the campaign. In the next part, you'll need to create predictions on the \"TEST\" partition, where the \"RESPONSE\" column has been withheld."
      ]
    },
    {
      "cell_type": "code",
      "execution_count": null,
      "metadata": {
        "id": "RMpSuv_Mwmy1",
        "outputId": "5159eb02-0ea8-4135-e9fc-7d81f33d39e9"
      },
      "outputs": [
        {
          "name": "stderr",
          "output_type": "stream",
          "text": [
            "/opt/conda/lib/python3.6/site-packages/IPython/core/interactiveshell.py:2785: DtypeWarning: Columns (18,19) have mixed types. Specify dtype option on import or set low_memory=False.\n",
            "  interactivity=interactivity, compiler=compiler, result=result)\n"
          ]
        }
      ],
      "source": [
        "mailout_train = pd.read_csv('../../data/Term2/capstone/arvato_data/Udacity_MAILOUT_052018_TRAIN.csv', sep=';')"
      ]
    },
    {
      "cell_type": "code",
      "execution_count": null,
      "metadata": {
        "id": "NifxyYIewmy1",
        "outputId": "cc89790f-cab1-45ff-df69-2b93e92fdcdc"
      },
      "outputs": [
        {
          "data": {
            "text/plain": [
              "(42962, 367)"
            ]
          },
          "execution_count": 82,
          "metadata": {},
          "output_type": "execute_result"
        }
      ],
      "source": [
        "mailout_train.shape"
      ]
    },
    {
      "cell_type": "code",
      "execution_count": null,
      "metadata": {
        "id": "JfD8rgyawmy2"
      },
      "outputs": [],
      "source": [
        "labels = mailout_train[\"RESPONSE\"]\n",
        "mailout_train_LNR = mailout_train[\"LNR\"]"
      ]
    },
    {
      "cell_type": "markdown",
      "metadata": {
        "id": "8O4qHYFfwmy2"
      },
      "source": [
        "**Cleaning the mailout_train data by creating a function with all the steps followed above for data cleaning**"
      ]
    },
    {
      "cell_type": "code",
      "execution_count": null,
      "metadata": {
        "id": "BwV8mWxHwmy2"
      },
      "outputs": [],
      "source": [
        "def clean_data(azdias, df, attri_values):\n",
        "    '''Cleaning the dataframe'''\n",
        "    \n",
        "    print(\"Cleaning Given Dataframes\")\n",
        "\n",
        "    start = time.time()\n",
        "\n",
        "\n",
        "    #We can use Forward Fill method to fill Nan values in Attribute column\n",
        "    attri_values['Attribute'] = attri_values['Attribute'].ffill()\n",
        "\n",
        "    # Fixing columns 18 and 19\n",
        "    print(\"\\tFixing 19, 20 columns\")\n",
        "    Warning_Cols = list(df.columns[19:21])\n",
        "\n",
        "    df = clear_warn(df)\n",
        "\n",
        "    print(\"\\tFixing LP_* columns\")\n",
        "    df = fix_LP_cols(df)\n",
        "\n",
        "    #Replacing the unknown values in the dataset to NaN values\n",
        "    print(\"\\tReplacing 'unkown' values with 'NaN'\")\n",
        "    unkown_attri_values = attri_values[attri_values[\"Meaning\"] == \"unknown\"]\n",
        "    df = replace_unknown(df, unknown_attri_values)\n",
        "\n",
        "    #Fixing dtypes = 'obejct'\n",
        "    print(\"\\tFixing object dtypes\")\n",
        "    df = fix_cam_deu(df)\n",
        "\n",
        "    df = fix_OST(df)\n",
        "\n",
        "    df.drop('D19_LETZTER_KAUF_BRANCHE', axis = 1, inplace = True)\n",
        "\n",
        "    df = fix_EINGEFUEFGT(df)\n",
        "\n",
        "    df = fix_ANDREDE(df)\n",
        "\n",
        "    df = fix_WOHNLAGE(df)\n",
        "\n",
        "    #Dropping the ID of the people (LNR)\n",
        "    print(\"\\tDropping columns not available in azdias\")\n",
        "    cols_drop = [col for col in df.columns if col not in azdias.columns]\n",
        "    df = df.drop(cols_drop, axis = 1)\n",
        "\n",
        "    #Imputing the NaN values\n",
        "    print(\"\\tImputing NaN values\")\n",
        "    df = pd.DataFrame(imputer.fit_transform(df), columns = df.columns)\n",
        "\n",
        "    #Scaling the data\n",
        "    print(\"\\tScaling the cleaned data\")\n",
        "    df = pd.DataFrame(scale.fit_transform(df), columns = df.columns)\n",
        "\n",
        "\n",
        "    end = time.time()\n",
        "    print (f\"Completed Cleaning in {end-start} seconds\")\n",
        "\n",
        "    return df"
      ]
    },
    {
      "cell_type": "code",
      "execution_count": null,
      "metadata": {
        "id": "nR7NfXDLwmy4",
        "outputId": "cf9c5ca3-210e-434c-abeb-ab4dbb4318a3"
      },
      "outputs": [
        {
          "name": "stdout",
          "output_type": "stream",
          "text": [
            "Cleaning Given Dataframes\n",
            "\tFixing 19, 20 columns\n",
            "\tFixing LP_* columns\n",
            "\tReplacing 'unkown' values with 'NaN'\n",
            "\tFixing object dtypes\n",
            "\tDropping columns not available in azdias\n",
            "\tImputing NaN values\n",
            "\tScaling the cleaned data\n",
            "Completed Cleaning in 12.52061676979065 seconds\n"
          ]
        }
      ],
      "source": [
        "mailout_train = clean_data(azdias, mailout_train, attri_values)"
      ]
    },
    {
      "cell_type": "code",
      "execution_count": null,
      "metadata": {
        "id": "C_A-rkCQwmy5",
        "outputId": "f319fb52-79b2-40ec-e1b7-55689c8cefea"
      },
      "outputs": [
        {
          "name": "stdout",
          "output_type": "stream",
          "text": [
            "(42962, 359)\n",
            "(751331, 359)\n"
          ]
        }
      ],
      "source": [
        "print(mailout_train.shape)\n",
        "print(azdias.shape)"
      ]
    },
    {
      "cell_type": "markdown",
      "metadata": {
        "id": "frWlOM2mwmy5"
      },
      "source": [
        "**We will first train the model with Logistic regression and then setting it as a benchmark performance we'll try different algorithm to improve our model.**"
      ]
    },
    {
      "cell_type": "code",
      "execution_count": null,
      "metadata": {
        "id": "NR6_iqLBwmy6"
      },
      "outputs": [],
      "source": [
        "#Splitting the dataset in Train and Test dataset\n",
        "from sklearn.model_selection import train_test_split\n",
        "X_train, X_val, y_train, y_val = train_test_split(mailout_train, labels, test_size=0.20, random_state = 101)"
      ]
    },
    {
      "cell_type": "code",
      "execution_count": null,
      "metadata": {
        "id": "p4Q5bD_3wmy7"
      },
      "outputs": [],
      "source": [
        "lr = LogisticRegression(random_state = 101) #Initialize the Logistic regression model"
      ]
    },
    {
      "cell_type": "code",
      "execution_count": null,
      "metadata": {
        "id": "d4hcc9kiwmy8",
        "outputId": "b3a76ed9-d4c5-4149-e421-fb5147603b17"
      },
      "outputs": [
        {
          "data": {
            "text/plain": [
              "LogisticRegression(C=1.0, class_weight=None, dual=False, fit_intercept=True,\n",
              "          intercept_scaling=1, max_iter=100, multi_class='ovr', n_jobs=1,\n",
              "          penalty='l2', random_state=101, solver='liblinear', tol=0.0001,\n",
              "          verbose=0, warm_start=False)"
            ]
          },
          "execution_count": 89,
          "metadata": {},
          "output_type": "execute_result"
        }
      ],
      "source": [
        "lr.fit(X_train, y_train) #fitting the model."
      ]
    },
    {
      "cell_type": "markdown",
      "metadata": {
        "id": "USkGjoj7wmy8"
      },
      "source": [
        "Some people use predict() after creating a logistic regression model. Sklearn's function predict() only returns 0's and 1's. In this competition, the metric is AUC. You will score a higher AUC if you submit probabilities like 0.2, 0.6, 0.8, etc. Therefore after building your logistic regression model (or whatever model), use predict_proba()[:,1] which returns probabilities."
      ]
    },
    {
      "cell_type": "code",
      "execution_count": null,
      "metadata": {
        "id": "vJcrIVuLwmy8",
        "outputId": "cc1df4f3-443d-4203-d84d-e695353ef19d"
      },
      "outputs": [
        {
          "name": "stdout",
          "output_type": "stream",
          "text": [
            "Benchmark ROC-AUC Score:  0.64116681389\n"
          ]
        }
      ],
      "source": [
        "pred = lr.predict_proba(X_val)[:, 1]\n",
        "print (\"Benchmark ROC-AUC Score: \", roc_auc_score(y_val, pred))"
      ]
    },
    {
      "cell_type": "markdown",
      "metadata": {
        "id": "YcAe5Lexwmy8"
      },
      "source": [
        "BenchMark ROC-AUC score is 0.64. We need to improve on this score"
      ]
    },
    {
      "cell_type": "markdown",
      "metadata": {
        "id": "f1sjra56wmy8"
      },
      "source": [
        "**Let's try different Classification Algorithms to improve on our benchmark score. We will create a Pipeline for all the algorithms and a function to expedtite our process.**"
      ]
    },
    {
      "cell_type": "code",
      "execution_count": null,
      "metadata": {
        "id": "lVszWlw5wmy9"
      },
      "outputs": [],
      "source": [
        "def train_and_predict(model, X_train, X_val, y_train, y_val):\n",
        "    \"\"\"\n",
        "    Fit a model on X_train, y_train\n",
        "    predicts on X_val, y_val \n",
        "    Calculate AUC-ROC on predictions made on test data\n",
        "    \n",
        "    Outputs - AUC - ROC score, and total time taken for training and prediction    \n",
        "    \"\"\"\n",
        "    start = time.time()\n",
        "    model = model.fit(X_train, y_train)\n",
        "    \n",
        "    roc_score = roc_auc_score(y_val, model.predict_proba(X_val)[:,1])\n",
        "    \n",
        "    end = time.time()\n",
        "    time_elapsed = end - start\n",
        "    \n",
        "    return roc_score, time_elapsed  "
      ]
    },
    {
      "cell_type": "code",
      "execution_count": null,
      "metadata": {
        "id": "0nLnMmj3wmy-"
      },
      "outputs": [],
      "source": [
        "models = [(\"LogisticRegression\", LogisticRegression(random_state=101)),\n",
        "         (\"DecisionTreeClassifier\", DecisionTreeClassifier(random_state=101)),\n",
        "         (\"RandomForestClassifier\", RandomForestClassifier(random_state=101)),\n",
        "         (\"GradientBoostingClassifier\", GradientBoostingClassifier(random_state=101)),\n",
        "         (\"AdaBoostClassifier\", AdaBoostClassifier(random_state=101))]"
      ]
    },
    {
      "cell_type": "code",
      "execution_count": null,
      "metadata": {
        "id": "s4M2dIAHwmy_"
      },
      "outputs": [],
      "source": [
        "results = {\"Model\":[],\n",
        "          \"AUCROC_score\":[],\n",
        "          \"Time_in_sec\":[]}\n",
        "\n",
        "for name, model in models:\n",
        "    roc, time_ = train_and_predict(model, X_train, X_val, y_train, y_val)\n",
        "    results[\"Model\"].append(name)\n",
        "    results[\"AUCROC_score\"].append(roc)\n",
        "    results[\"Time_in_sec\"].append(time_)"
      ]
    },
    {
      "cell_type": "code",
      "execution_count": null,
      "metadata": {
        "id": "vZxlGg6jwmy_",
        "outputId": "eb7af43f-3aca-4602-bfd7-7d74341260bc"
      },
      "outputs": [
        {
          "data": {
            "text/html": [
              "<div>\n",
              "<style scoped>\n",
              "    .dataframe tbody tr th:only-of-type {\n",
              "        vertical-align: middle;\n",
              "    }\n",
              "\n",
              "    .dataframe tbody tr th {\n",
              "        vertical-align: top;\n",
              "    }\n",
              "\n",
              "    .dataframe thead th {\n",
              "        text-align: right;\n",
              "    }\n",
              "</style>\n",
              "<table border=\"1\" class=\"dataframe\">\n",
              "  <thead>\n",
              "    <tr style=\"text-align: right;\">\n",
              "      <th></th>\n",
              "      <th>Model</th>\n",
              "      <th>AUCROC_score</th>\n",
              "      <th>Time_in_sec</th>\n",
              "    </tr>\n",
              "  </thead>\n",
              "  <tbody>\n",
              "    <tr>\n",
              "      <th>0</th>\n",
              "      <td>LogisticRegression</td>\n",
              "      <td>0.641167</td>\n",
              "      <td>13.8497</td>\n",
              "    </tr>\n",
              "    <tr>\n",
              "      <th>1</th>\n",
              "      <td>DecisionTreeClassifier</td>\n",
              "      <td>0.508501</td>\n",
              "      <td>3.95096</td>\n",
              "    </tr>\n",
              "    <tr>\n",
              "      <th>2</th>\n",
              "      <td>RandomForestClassifier</td>\n",
              "      <td>0.499958</td>\n",
              "      <td>1.41292</td>\n",
              "    </tr>\n",
              "    <tr>\n",
              "      <th>3</th>\n",
              "      <td>GradientBoostingClassifier</td>\n",
              "      <td>0.761534</td>\n",
              "      <td>44.2233</td>\n",
              "    </tr>\n",
              "    <tr>\n",
              "      <th>4</th>\n",
              "      <td>AdaBoostClassifier</td>\n",
              "      <td>0.720416</td>\n",
              "      <td>14.5091</td>\n",
              "    </tr>\n",
              "  </tbody>\n",
              "</table>\n",
              "</div>"
            ],
            "text/plain": [
              "                        Model AUCROC_score Time_in_sec\n",
              "0          LogisticRegression     0.641167     13.8497\n",
              "1      DecisionTreeClassifier     0.508501     3.95096\n",
              "2      RandomForestClassifier     0.499958     1.41292\n",
              "3  GradientBoostingClassifier     0.761534     44.2233\n",
              "4          AdaBoostClassifier     0.720416     14.5091"
            ]
          },
          "execution_count": 94,
          "metadata": {},
          "output_type": "execute_result"
        }
      ],
      "source": [
        "results = pd.DataFrame.from_dict(results, orient='index').transpose()\n",
        "results"
      ]
    },
    {
      "cell_type": "markdown",
      "metadata": {
        "id": "zQ1YpiH4wmy_"
      },
      "source": [
        "Going from the result, we find that **Gradient Boosting Classifier** is the best model, however, it was the slowest of the lot for training. The second best is **AdaBoost Classifier** and it took lesser time. We will tune only on **AdaBoost Classifier** model and check for any improvements. \n",
        "\n",
        "But, before going for Hyper-Parameters Tuning, let's run the decomposition in our data and see if it improves our results."
      ]
    },
    {
      "cell_type": "code",
      "execution_count": null,
      "metadata": {
        "id": "ws6FocpzwmzA"
      },
      "outputs": [],
      "source": [
        "mailout_train_decom = pca.transform(mailout_train)"
      ]
    },
    {
      "cell_type": "code",
      "execution_count": null,
      "metadata": {
        "id": "dkpY195_wmzA"
      },
      "outputs": [],
      "source": [
        "X_train_1, X_val_1, y_train_1, y_val_1 = train_test_split(mailout_train_decom, labels, test_size=0.20, random_state = 101)"
      ]
    },
    {
      "cell_type": "code",
      "execution_count": null,
      "metadata": {
        "id": "jUKm1PO2wmzA"
      },
      "outputs": [],
      "source": [
        "results_decom = {\"Model\":[],\n",
        "          \"AUCROC_score\":[],\n",
        "          \"Time_in_sec\":[]}\n",
        "\n",
        "for name, model in models:\n",
        "    roc, time_ = train_and_predict(model, X_train_1, X_val_1, y_train_1, y_val_1)\n",
        "    results_decom[\"Model\"].append(name)\n",
        "    results_decom[\"AUCROC_score\"].append(roc)\n",
        "    results_decom[\"Time_in_sec\"].append(time_)"
      ]
    },
    {
      "cell_type": "code",
      "execution_count": null,
      "metadata": {
        "id": "NE3A47J_wmzB",
        "outputId": "7b5911b9-e6d1-40ef-de81-80a95f941dd9"
      },
      "outputs": [
        {
          "data": {
            "text/html": [
              "<div>\n",
              "<style scoped>\n",
              "    .dataframe tbody tr th:only-of-type {\n",
              "        vertical-align: middle;\n",
              "    }\n",
              "\n",
              "    .dataframe tbody tr th {\n",
              "        vertical-align: top;\n",
              "    }\n",
              "\n",
              "    .dataframe thead th {\n",
              "        text-align: right;\n",
              "    }\n",
              "</style>\n",
              "<table border=\"1\" class=\"dataframe\">\n",
              "  <thead>\n",
              "    <tr style=\"text-align: right;\">\n",
              "      <th></th>\n",
              "      <th>Model</th>\n",
              "      <th>AUCROC_score</th>\n",
              "      <th>Time_in_sec</th>\n",
              "    </tr>\n",
              "  </thead>\n",
              "  <tbody>\n",
              "    <tr>\n",
              "      <th>0</th>\n",
              "      <td>LogisticRegression</td>\n",
              "      <td>0.64117</td>\n",
              "      <td>13.8756</td>\n",
              "    </tr>\n",
              "    <tr>\n",
              "      <th>1</th>\n",
              "      <td>DecisionTreeClassifier</td>\n",
              "      <td>0.493383</td>\n",
              "      <td>114.099</td>\n",
              "    </tr>\n",
              "    <tr>\n",
              "      <th>2</th>\n",
              "      <td>RandomForestClassifier</td>\n",
              "      <td>0.486894</td>\n",
              "      <td>20.4021</td>\n",
              "    </tr>\n",
              "    <tr>\n",
              "      <th>3</th>\n",
              "      <td>GradientBoostingClassifier</td>\n",
              "      <td>0.584873</td>\n",
              "      <td>157.743</td>\n",
              "    </tr>\n",
              "    <tr>\n",
              "      <th>4</th>\n",
              "      <td>AdaBoostClassifier</td>\n",
              "      <td>0.581564</td>\n",
              "      <td>95.9342</td>\n",
              "    </tr>\n",
              "  </tbody>\n",
              "</table>\n",
              "</div>"
            ],
            "text/plain": [
              "                        Model AUCROC_score Time_in_sec\n",
              "0          LogisticRegression      0.64117     13.8756\n",
              "1      DecisionTreeClassifier     0.493383     114.099\n",
              "2      RandomForestClassifier     0.486894     20.4021\n",
              "3  GradientBoostingClassifier     0.584873     157.743\n",
              "4          AdaBoostClassifier     0.581564     95.9342"
            ]
          },
          "execution_count": 98,
          "metadata": {},
          "output_type": "execute_result"
        }
      ],
      "source": [
        "results_decom = pd.DataFrame.from_dict(results_decom, orient='index').transpose()\n",
        "results_decom"
      ]
    },
    {
      "cell_type": "markdown",
      "metadata": {
        "id": "OSWrm-e8wmzB"
      },
      "source": [
        "Decomposition of our data into reduced dimension only worsens our score. We will continue with our original data set.\n",
        "\n",
        "Let's do the tuning with **GRID SEARCH**"
      ]
    },
    {
      "cell_type": "markdown",
      "metadata": {
        "id": "_BfHdo5JwmzB"
      },
      "source": [
        "**Grid Search - AdaBoostClassifier**"
      ]
    },
    {
      "cell_type": "code",
      "execution_count": null,
      "metadata": {
        "id": "lu6RhUq1wmzB",
        "outputId": "c6313a43-fdf7-4d99-c237-60381bb9d982"
      },
      "outputs": [
        {
          "data": {
            "text/plain": [
              "dict_keys(['cv', 'error_score', 'estimator__algorithm', 'estimator__base_estimator', 'estimator__learning_rate', 'estimator__n_estimators', 'estimator__random_state', 'estimator', 'fit_params', 'iid', 'n_jobs', 'param_grid', 'pre_dispatch', 'refit', 'return_train_score', 'scoring', 'verbose'])"
            ]
          },
          "execution_count": 102,
          "metadata": {},
          "output_type": "execute_result"
        }
      ],
      "source": [
        "adaboost_grid.get_params().keys()"
      ]
    },
    {
      "cell_type": "code",
      "execution_count": null,
      "metadata": {
        "id": "niOzgLWFwmzC"
      },
      "outputs": [],
      "source": [
        "param_grid = {\"n_estimators\": [50,100,150],\n",
        "              \"learning_rate\": [0.01,0.1,0.5,1],\n",
        "              \"algorithm\":[\"SAMME.R\"]\n",
        "              }\n",
        "\n",
        "adaboost_grid = GridSearchCV(estimator = AdaBoostClassifier(random_state=101), \n",
        "                           param_grid = param_grid, \n",
        "                           scoring = \"roc_auc\", \n",
        "                           cv = 5, n_jobs = -1, verbose=1)"
      ]
    },
    {
      "cell_type": "code",
      "execution_count": null,
      "metadata": {
        "id": "nVPz4eNjwmzI",
        "outputId": "755d6c89-8a1e-48b3-a1ef-b40690eb9901"
      },
      "outputs": [
        {
          "name": "stdout",
          "output_type": "stream",
          "text": [
            "Fitting 5 folds for each of 12 candidates, totalling 60 fits\n"
          ]
        },
        {
          "name": "stderr",
          "output_type": "stream",
          "text": [
            "[Parallel(n_jobs=-1)]: Done  60 out of  60 | elapsed: 22.9min finished\n"
          ]
        },
        {
          "name": "stdout",
          "output_type": "stream",
          "text": [
            "Best Score:  0.763539228708\n",
            "Best Params:  {'algorithm': 'SAMME.R', 'learning_rate': 0.1, 'n_estimators': 50}\n",
            "CPU times: user 23min 5s, sys: 0 ns, total: 23min 5s\n",
            "Wall time: 23min 8s\n"
          ]
        }
      ],
      "source": [
        "%%time\n",
        "adaboost_grid.fit(X_train, y_train)\n",
        "\n",
        "adaboost = adaboost_grid.best_estimator_\n",
        "\n",
        "print(\"Best Score: \", adaboost_grid.best_score_)\n",
        "print(\"Best Params: \", adaboost_grid.best_params_)"
      ]
    },
    {
      "cell_type": "code",
      "execution_count": null,
      "metadata": {
        "id": "FZYKPi6WwmzJ",
        "outputId": "6fdc31b5-9bc7-46a8-843d-3750e5eba382"
      },
      "outputs": [
        {
          "name": "stdout",
          "output_type": "stream",
          "text": [
            "ROC score on validation data:  0.771612052936\n"
          ]
        }
      ],
      "source": [
        "preds_adaboost = adaboost.predict_proba(X_val)[:,1]\n",
        "\n",
        "ROC_Adaboost = roc_auc_score(y_val, preds_adaboost)\n",
        "\n",
        "print(\"ROC score on validation data: \", ROC_Adaboost)"
      ]
    },
    {
      "cell_type": "markdown",
      "metadata": {
        "id": "nl0Yn2ANwmzK"
      },
      "source": [
        "Even though our model showed quite good improvement on its performance, however it could be further improved by performing more tuning on our hyper parameters by including more values for the parameters specified on the Grid Search method applied or adding more hyper parameters. We could have also tested more models at the beginning of the process in order to see if its AUC value was higher than in the case of Gradient Boosting."
      ]
    },
    {
      "cell_type": "markdown",
      "metadata": {
        "id": "kmjxSURXwmzK"
      },
      "source": [
        "# **Part 3: Kaggle Competition**\n",
        "\n",
        "Now that you've created a model to predict which individuals are most likely to respond to a mailout campaign, it's time to test that model in competition through Kaggle. If you click on the link here, you'll be taken to the competition page where, if you have a Kaggle account, you can enter. If you're one of the top performers, you may have the chance to be contacted by a hiring manager from Arvato or Bertelsmann for an interview!\n",
        "\n",
        "Your entry to the competition should be a CSV file with two columns. The first column should be a copy of \"LNR\", which acts as an ID number for each individual in the \"TEST\" partition. The second column, \"RESPONSE\", should be some measure of how likely each individual became a customer – this might not be a straightforward probability. As you should have found in Part 2, there is a large output class imbalance, where most individuals did not respond to the mailout. Thus, predicting individual classes and using accuracy does not seem to be an appropriate performance evaluation method. Instead, the competition will be using AUC to evaluate performance. The exact values of the \"RESPONSE\" column do not matter as much: only that the higher values try to capture as many of the actual customers as possible, early in the ROC curve sweep."
      ]
    },
    {
      "cell_type": "code",
      "execution_count": null,
      "metadata": {
        "id": "xqqkWTF8wmzL",
        "outputId": "08fa2a33-04a2-4ef7-8fa6-dfc512fb652d"
      },
      "outputs": [
        {
          "name": "stderr",
          "output_type": "stream",
          "text": [
            "/opt/conda/lib/python3.6/site-packages/IPython/core/interactiveshell.py:2785: DtypeWarning: Columns (18,19) have mixed types. Specify dtype option on import or set low_memory=False.\n",
            "  interactivity=interactivity, compiler=compiler, result=result)\n"
          ]
        }
      ],
      "source": [
        "mailout_test = pd.read_csv('../../data/Term2/capstone/arvato_data/Udacity_MAILOUT_052018_TEST.csv', sep=';')#Loading the test data"
      ]
    },
    {
      "cell_type": "code",
      "execution_count": null,
      "metadata": {
        "id": "4yBWL9ptwmzL",
        "outputId": "3d576600-eb7d-4845-9426-26e6f807cc1d"
      },
      "outputs": [
        {
          "data": {
            "text/html": [
              "<div>\n",
              "<style scoped>\n",
              "    .dataframe tbody tr th:only-of-type {\n",
              "        vertical-align: middle;\n",
              "    }\n",
              "\n",
              "    .dataframe tbody tr th {\n",
              "        vertical-align: top;\n",
              "    }\n",
              "\n",
              "    .dataframe thead th {\n",
              "        text-align: right;\n",
              "    }\n",
              "</style>\n",
              "<table border=\"1\" class=\"dataframe\">\n",
              "  <thead>\n",
              "    <tr style=\"text-align: right;\">\n",
              "      <th></th>\n",
              "      <th>LNR</th>\n",
              "      <th>AGER_TYP</th>\n",
              "      <th>AKT_DAT_KL</th>\n",
              "      <th>ALTER_HH</th>\n",
              "      <th>ALTER_KIND1</th>\n",
              "      <th>ALTER_KIND2</th>\n",
              "      <th>ALTER_KIND3</th>\n",
              "      <th>ALTER_KIND4</th>\n",
              "      <th>ALTERSKATEGORIE_FEIN</th>\n",
              "      <th>ANZ_HAUSHALTE_AKTIV</th>\n",
              "      <th>...</th>\n",
              "      <th>VHN</th>\n",
              "      <th>VK_DHT4A</th>\n",
              "      <th>VK_DISTANZ</th>\n",
              "      <th>VK_ZG11</th>\n",
              "      <th>W_KEIT_KIND_HH</th>\n",
              "      <th>WOHNDAUER_2008</th>\n",
              "      <th>WOHNLAGE</th>\n",
              "      <th>ZABEOTYP</th>\n",
              "      <th>ANREDE_KZ</th>\n",
              "      <th>ALTERSKATEGORIE_GROB</th>\n",
              "    </tr>\n",
              "  </thead>\n",
              "  <tbody>\n",
              "    <tr>\n",
              "      <th>0</th>\n",
              "      <td>1754</td>\n",
              "      <td>2</td>\n",
              "      <td>1.0</td>\n",
              "      <td>7.0</td>\n",
              "      <td>NaN</td>\n",
              "      <td>NaN</td>\n",
              "      <td>NaN</td>\n",
              "      <td>NaN</td>\n",
              "      <td>6.0</td>\n",
              "      <td>2.0</td>\n",
              "      <td>...</td>\n",
              "      <td>4.0</td>\n",
              "      <td>5.0</td>\n",
              "      <td>6.0</td>\n",
              "      <td>3.0</td>\n",
              "      <td>6.0</td>\n",
              "      <td>9.0</td>\n",
              "      <td>3.0</td>\n",
              "      <td>3</td>\n",
              "      <td>1</td>\n",
              "      <td>4</td>\n",
              "    </tr>\n",
              "    <tr>\n",
              "      <th>1</th>\n",
              "      <td>1770</td>\n",
              "      <td>-1</td>\n",
              "      <td>1.0</td>\n",
              "      <td>0.0</td>\n",
              "      <td>NaN</td>\n",
              "      <td>NaN</td>\n",
              "      <td>NaN</td>\n",
              "      <td>NaN</td>\n",
              "      <td>0.0</td>\n",
              "      <td>20.0</td>\n",
              "      <td>...</td>\n",
              "      <td>1.0</td>\n",
              "      <td>5.0</td>\n",
              "      <td>2.0</td>\n",
              "      <td>1.0</td>\n",
              "      <td>6.0</td>\n",
              "      <td>9.0</td>\n",
              "      <td>5.0</td>\n",
              "      <td>3</td>\n",
              "      <td>1</td>\n",
              "      <td>4</td>\n",
              "    </tr>\n",
              "    <tr>\n",
              "      <th>2</th>\n",
              "      <td>1465</td>\n",
              "      <td>2</td>\n",
              "      <td>9.0</td>\n",
              "      <td>16.0</td>\n",
              "      <td>NaN</td>\n",
              "      <td>NaN</td>\n",
              "      <td>NaN</td>\n",
              "      <td>NaN</td>\n",
              "      <td>11.0</td>\n",
              "      <td>2.0</td>\n",
              "      <td>...</td>\n",
              "      <td>3.0</td>\n",
              "      <td>9.0</td>\n",
              "      <td>6.0</td>\n",
              "      <td>3.0</td>\n",
              "      <td>2.0</td>\n",
              "      <td>9.0</td>\n",
              "      <td>4.0</td>\n",
              "      <td>3</td>\n",
              "      <td>2</td>\n",
              "      <td>4</td>\n",
              "    </tr>\n",
              "    <tr>\n",
              "      <th>3</th>\n",
              "      <td>1470</td>\n",
              "      <td>-1</td>\n",
              "      <td>7.0</td>\n",
              "      <td>0.0</td>\n",
              "      <td>NaN</td>\n",
              "      <td>NaN</td>\n",
              "      <td>NaN</td>\n",
              "      <td>NaN</td>\n",
              "      <td>0.0</td>\n",
              "      <td>1.0</td>\n",
              "      <td>...</td>\n",
              "      <td>2.0</td>\n",
              "      <td>6.0</td>\n",
              "      <td>6.0</td>\n",
              "      <td>3.0</td>\n",
              "      <td>NaN</td>\n",
              "      <td>9.0</td>\n",
              "      <td>2.0</td>\n",
              "      <td>3</td>\n",
              "      <td>2</td>\n",
              "      <td>4</td>\n",
              "    </tr>\n",
              "    <tr>\n",
              "      <th>4</th>\n",
              "      <td>1478</td>\n",
              "      <td>1</td>\n",
              "      <td>1.0</td>\n",
              "      <td>21.0</td>\n",
              "      <td>NaN</td>\n",
              "      <td>NaN</td>\n",
              "      <td>NaN</td>\n",
              "      <td>NaN</td>\n",
              "      <td>13.0</td>\n",
              "      <td>1.0</td>\n",
              "      <td>...</td>\n",
              "      <td>1.0</td>\n",
              "      <td>2.0</td>\n",
              "      <td>4.0</td>\n",
              "      <td>3.0</td>\n",
              "      <td>3.0</td>\n",
              "      <td>9.0</td>\n",
              "      <td>7.0</td>\n",
              "      <td>4</td>\n",
              "      <td>2</td>\n",
              "      <td>4</td>\n",
              "    </tr>\n",
              "  </tbody>\n",
              "</table>\n",
              "<p>5 rows × 366 columns</p>\n",
              "</div>"
            ],
            "text/plain": [
              "    LNR  AGER_TYP  AKT_DAT_KL  ALTER_HH  ALTER_KIND1  ALTER_KIND2  \\\n",
              "0  1754         2         1.0       7.0          NaN          NaN   \n",
              "1  1770        -1         1.0       0.0          NaN          NaN   \n",
              "2  1465         2         9.0      16.0          NaN          NaN   \n",
              "3  1470        -1         7.0       0.0          NaN          NaN   \n",
              "4  1478         1         1.0      21.0          NaN          NaN   \n",
              "\n",
              "   ALTER_KIND3  ALTER_KIND4  ALTERSKATEGORIE_FEIN  ANZ_HAUSHALTE_AKTIV  \\\n",
              "0          NaN          NaN                   6.0                  2.0   \n",
              "1          NaN          NaN                   0.0                 20.0   \n",
              "2          NaN          NaN                  11.0                  2.0   \n",
              "3          NaN          NaN                   0.0                  1.0   \n",
              "4          NaN          NaN                  13.0                  1.0   \n",
              "\n",
              "          ...           VHN  VK_DHT4A  VK_DISTANZ  VK_ZG11  W_KEIT_KIND_HH  \\\n",
              "0         ...           4.0       5.0         6.0      3.0             6.0   \n",
              "1         ...           1.0       5.0         2.0      1.0             6.0   \n",
              "2         ...           3.0       9.0         6.0      3.0             2.0   \n",
              "3         ...           2.0       6.0         6.0      3.0             NaN   \n",
              "4         ...           1.0       2.0         4.0      3.0             3.0   \n",
              "\n",
              "   WOHNDAUER_2008  WOHNLAGE ZABEOTYP ANREDE_KZ ALTERSKATEGORIE_GROB  \n",
              "0             9.0       3.0        3         1                    4  \n",
              "1             9.0       5.0        3         1                    4  \n",
              "2             9.0       4.0        3         2                    4  \n",
              "3             9.0       2.0        3         2                    4  \n",
              "4             9.0       7.0        4         2                    4  \n",
              "\n",
              "[5 rows x 366 columns]"
            ]
          },
          "execution_count": 107,
          "metadata": {},
          "output_type": "execute_result"
        }
      ],
      "source": [
        "mailout_test.head()"
      ]
    },
    {
      "cell_type": "code",
      "execution_count": null,
      "metadata": {
        "id": "51IKT3VbwmzM"
      },
      "outputs": [],
      "source": [
        "mailout_test_LNR = mailout_test[\"LNR\"] #"
      ]
    },
    {
      "cell_type": "code",
      "execution_count": null,
      "metadata": {
        "id": "dZT-e6YbwmzM",
        "outputId": "a4d373b1-af51-4c12-8a33-f4731abb5240"
      },
      "outputs": [
        {
          "name": "stdout",
          "output_type": "stream",
          "text": [
            "Cleaning Given Dataframes\n",
            "\tFixing 19, 20 columns\n",
            "\tFixing LP_* columns\n",
            "\tReplacing 'unkown' values with 'NaN'\n",
            "\tFixing object dtypes\n",
            "\tDropping columns not available in azdias\n",
            "\tImputing NaN values\n",
            "\tScaling the cleaned data\n",
            "Completed Cleaning in 10.094944953918457 seconds\n"
          ]
        }
      ],
      "source": [
        "mailout_test = clean_data(azdias, mailout_test, attri_values) #Cleaning the test dataset"
      ]
    },
    {
      "cell_type": "code",
      "execution_count": null,
      "metadata": {
        "id": "wJ9TpamDwmzM",
        "outputId": "eafa9fbe-1175-47bb-f9bb-a053e7692b71"
      },
      "outputs": [
        {
          "data": {
            "text/html": [
              "<div>\n",
              "<style scoped>\n",
              "    .dataframe tbody tr th:only-of-type {\n",
              "        vertical-align: middle;\n",
              "    }\n",
              "\n",
              "    .dataframe tbody tr th {\n",
              "        vertical-align: top;\n",
              "    }\n",
              "\n",
              "    .dataframe thead th {\n",
              "        text-align: right;\n",
              "    }\n",
              "</style>\n",
              "<table border=\"1\" class=\"dataframe\">\n",
              "  <thead>\n",
              "    <tr style=\"text-align: right;\">\n",
              "      <th></th>\n",
              "      <th>RESPONSE</th>\n",
              "    </tr>\n",
              "    <tr>\n",
              "      <th>LNR</th>\n",
              "      <th></th>\n",
              "    </tr>\n",
              "  </thead>\n",
              "  <tbody>\n",
              "    <tr>\n",
              "      <th>1754</th>\n",
              "      <td>0.320128</td>\n",
              "    </tr>\n",
              "    <tr>\n",
              "      <th>1770</th>\n",
              "      <td>0.325810</td>\n",
              "    </tr>\n",
              "    <tr>\n",
              "      <th>1465</th>\n",
              "      <td>0.247589</td>\n",
              "    </tr>\n",
              "    <tr>\n",
              "      <th>1470</th>\n",
              "      <td>0.248562</td>\n",
              "    </tr>\n",
              "    <tr>\n",
              "      <th>1478</th>\n",
              "      <td>0.255703</td>\n",
              "    </tr>\n",
              "  </tbody>\n",
              "</table>\n",
              "</div>"
            ],
            "text/plain": [
              "      RESPONSE\n",
              "LNR           \n",
              "1754  0.320128\n",
              "1770  0.325810\n",
              "1465  0.247589\n",
              "1470  0.248562\n",
              "1478  0.255703"
            ]
          },
          "execution_count": 111,
          "metadata": {},
          "output_type": "execute_result"
        }
      ],
      "source": [
        "preds_test_adaboost = adaboost.predict_proba(mailout_test)[:,1] #Using Adaboost in our Test data\n",
        "\n",
        "kaggle_adaboost = pd.DataFrame(index=mailout_test_LNR, data=preds_test_adaboost)\n",
        "kaggle_adaboost.rename(columns={0: \"RESPONSE\"}, inplace=True)\n",
        "\n",
        "\n",
        "kaggle_adaboost.head()"
      ]
    },
    {
      "cell_type": "code",
      "execution_count": null,
      "metadata": {
        "id": "5g8jonn1wmzN"
      },
      "outputs": [],
      "source": [
        "# Save file to submit\n",
        "kaggle_adaboost.to_csv('Submission.csv')"
      ]
    },
    {
      "cell_type": "code",
      "execution_count": null,
      "metadata": {
        "id": "y5BtKJ1swmzN"
      },
      "outputs": [],
      "source": [
        ""
      ]
    }
  ],
  "metadata": {
    "kernelspec": {
      "display_name": "Python 3",
      "language": "python",
      "name": "python3"
    },
    "language_info": {
      "codemirror_mode": {
        "name": "ipython",
        "version": 3
      },
      "file_extension": ".py",
      "mimetype": "text/x-python",
      "name": "python",
      "nbconvert_exporter": "python",
      "pygments_lexer": "ipython3",
      "version": "3.6.3"
    },
    "colab": {
      "name": "Arvato Project Workbook.ipynb",
      "provenance": [],
      "collapsed_sections": []
    }
  },
  "nbformat": 4,
  "nbformat_minor": 0
}